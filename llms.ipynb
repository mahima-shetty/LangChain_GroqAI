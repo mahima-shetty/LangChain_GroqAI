{
 "cells": [
  {
   "cell_type": "code",
   "execution_count": 1,
   "id": "8a0a9b59",
   "metadata": {},
   "outputs": [
    {
     "name": "stdout",
     "output_type": "stream",
     "text": [
      "O\n"
     ]
    }
   ],
   "source": [
    "print(\"O\")"
   ]
  },
  {
   "cell_type": "code",
   "execution_count": 2,
   "id": "4f6a5944",
   "metadata": {},
   "outputs": [],
   "source": [
    "import os\n",
    "from dotenv import load_dotenv, find_dotenv\n",
    "from langchain_core.messages import HumanMessage, SystemMessage\n",
    "from langchain_groq import ChatGroq"
   ]
  },
  {
   "cell_type": "code",
   "execution_count": 3,
   "id": "697e2697",
   "metadata": {},
   "outputs": [
    {
     "data": {
      "text/plain": [
       "True"
      ]
     },
     "execution_count": 3,
     "metadata": {},
     "output_type": "execute_result"
    }
   ],
   "source": [
    "load_dotenv(override=True)"
   ]
  },
  {
   "cell_type": "code",
   "execution_count": 4,
   "id": "eae8c87e",
   "metadata": {},
   "outputs": [],
   "source": [
    "chat = ChatGroq(\n",
    "    groq_api_key = os.getenv(\"GROQ_API_KEY\"),\n",
    "    model_name = \"llama3-70b-8192\",\n",
    ")"
   ]
  },
  {
   "cell_type": "code",
   "execution_count": 5,
   "id": "f3cd0fb6",
   "metadata": {},
   "outputs": [],
   "source": [
    "messages = [\n",
    "    SystemMessage(content=\"You are a quantam computing subject expert\"),\n",
    "    HumanMessage(content=\"Explain quantum computing in simple terms.\"),\n",
    "]"
   ]
  },
  {
   "cell_type": "code",
   "execution_count": 6,
   "id": "a12f2d9d",
   "metadata": {},
   "outputs": [],
   "source": [
    "response = chat.invoke(messages)"
   ]
  },
  {
   "cell_type": "code",
   "execution_count": 9,
   "id": "01b4f04f",
   "metadata": {},
   "outputs": [
    {
     "name": "stdout",
     "output_type": "stream",
     "text": [
      "API Key Loaded: gsk_3lkNIY...\n"
     ]
    }
   ],
   "source": [
    "print(f\"API Key Loaded: {os.getenv('GROQ_API_KEY')[:10]}...\")  # should show prefix"
   ]
  },
  {
   "cell_type": "code",
   "execution_count": 8,
   "id": "a846ad44",
   "metadata": {},
   "outputs": [
    {
     "name": "stdout",
     "output_type": "stream",
     "text": [
      "Quantum computing! It's like a super-powerful computer that works in a way that's really hard to wrap your head around. But I'll try to explain it in simple terms!\n",
      "\n",
      "**Classical Computing**\n",
      "\n",
      "First, let's talk about how regular computers work. They use \"bits\" to process information. A bit is either a 0 or a 1. Think of it like a light switch: it's either ON (1) or OFF (0). These bits are like tiny building blocks that make up all the information on your computer.\n",
      "\n",
      "**Quantum Computing**\n",
      "\n",
      "Now, imagine a special kind of computer that uses \"qubits\" (quantum bits). Qubits are like magic light switches that can be both ON (1) and OFF (0) at the same time! This is called a \"superposition.\" It's like the light switch is simultaneously ON and OFF, which sounds crazy, but it's what makes quantum computers so powerful.\n",
      "\n",
      "Another weird thing about qubits is that they can be \"entangled.\" This means that if you do something to one qubit, it instantly affects the other qubit, no matter how far apart they are. It's like having a secret handshake with someone, and when you do it, the other person instantly knows what you're doing, even if they're on the other side of the world.\n",
      "\n",
      "**How Quantum Computers Work**\n",
      "\n",
      "So, when a quantum computer processes information, it uses these qubits to explore multiple possibilities at the same time. It's like trying to find the best route to a place you've never been before. A classical computer would try each route one by one, but a quantum computer can try all the routes simultaneously, which makes it much faster.\n",
      "\n",
      "Imagine you have a huge library with millions of books, and you need to find a specific book. A classical computer would look at each book one by one, but a quantum computer could look at all the books simultaneously, making it much faster.\n",
      "\n",
      "**Real-World Applications**\n",
      "\n",
      "So, what can quantum computers do that regular computers can't?\n",
      "\n",
      "1. **Cryptography**: Quantum computers can break some encryption methods, but they can also create unbreakable codes.\n",
      "2. **Optimization**: Quantum computers can quickly find the best solution to complex problems, like optimizing routes for delivery trucks or managing complex systems.\n",
      "3. **Materials Science**: They can simulate the behavior of materials at the atomic level, which could lead to breakthroughs.\n",
      "\n",
      "**In Summary**\n",
      "\n",
      "Quantum computing is like a super-powerful computer that uses magic light switches (qubits) that can be both ON and OFF at the same time. This allows it to process information much faster than regular computers, making it useful for things like cryptography, optimization, and materials science.\n",
      "\n",
      "Was that explanation helpful?\n"
     ]
    }
   ],
   "source": [
    "print(response.content)"
   ]
  },
  {
   "cell_type": "code",
   "execution_count": null,
   "id": "e2fb5c9a",
   "metadata": {},
   "outputs": [],
   "source": []
  }
 ],
 "metadata": {
  "kernelspec": {
   "display_name": "langchain",
   "language": "python",
   "name": "python3"
  },
  "language_info": {
   "codemirror_mode": {
    "name": "ipython",
    "version": 3
   },
   "file_extension": ".py",
   "mimetype": "text/x-python",
   "name": "python",
   "nbconvert_exporter": "python",
   "pygments_lexer": "ipython3",
   "version": "3.10.11"
  }
 },
 "nbformat": 4,
 "nbformat_minor": 5
}
