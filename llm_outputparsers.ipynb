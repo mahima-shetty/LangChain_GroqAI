{
 "cells": [
  {
   "cell_type": "code",
   "execution_count": 1,
   "id": "da8ea47f",
   "metadata": {},
   "outputs": [],
   "source": [
    "import os"
   ]
  },
  {
   "cell_type": "code",
   "execution_count": 2,
   "id": "b24cca83",
   "metadata": {},
   "outputs": [],
   "source": [
    "from langchain_groq import ChatGroq\n",
    "from langchain.schema import HumanMessage, SystemMessage\n",
    "\n",
    "llm_model = ChatGroq(\n",
    "    groq_api_key=os.getenv(\"GROQ_API_KEY\"),\n",
    "    model_name=\"llama3-70b-8192\"\n",
    ")\n"
   ]
  },
  {
   "cell_type": "code",
   "execution_count": 4,
   "id": "3a0c6496",
   "metadata": {},
   "outputs": [],
   "source": [
    "from langchain_core.prompts import PromptTemplate\n",
    "\n",
    "from langchain.output_parsers.json import SimpleJsonOutputParser"
   ]
  },
  {
   "cell_type": "code",
   "execution_count": 5,
   "id": "798927e6",
   "metadata": {},
   "outputs": [],
   "source": [
    "json_prompt = PromptTemplate.from_template(\"Return a json object with an 'answer' key that answers the following question : {question}\")"
   ]
  },
  {
   "cell_type": "code",
   "execution_count": 6,
   "id": "a152671a",
   "metadata": {},
   "outputs": [],
   "source": [
    "json_parser = SimpleJsonOutputParser()"
   ]
  },
  {
   "cell_type": "code",
   "execution_count": 7,
   "id": "01259f23",
   "metadata": {},
   "outputs": [],
   "source": [
    "json_chain = json_prompt | llm_model | json_parser"
   ]
  },
  {
   "cell_type": "code",
   "execution_count": 9,
   "id": "1b4f2e85",
   "metadata": {},
   "outputs": [
    {
     "data": {
      "text/plain": [
       "'Return a JSON object.'"
      ]
     },
     "execution_count": 9,
     "metadata": {},
     "output_type": "execute_result"
    }
   ],
   "source": [
    "json_parser.get_format_instructions()"
   ]
  },
  {
   "cell_type": "code",
   "execution_count": 10,
   "id": "f6f320b8",
   "metadata": {},
   "outputs": [
    {
     "data": {
      "text/plain": [
       "{'answer': 'Russia'}"
      ]
     },
     "execution_count": 10,
     "metadata": {},
     "output_type": "execute_result"
    }
   ],
   "source": [
    "json_chain.invoke({\"question\": \"What is the biggest country?\"})"
   ]
  },
  {
   "cell_type": "markdown",
   "id": "0c2a945a",
   "metadata": {},
   "source": [
    "## Custom Output Parsers by usnig Pydantic"
   ]
  },
  {
   "cell_type": "code",
   "execution_count": 11,
   "id": "a99ad470",
   "metadata": {},
   "outputs": [],
   "source": [
    "from langchain_core.output_parsers import JsonOutputParser\n",
    "from langchain_core.prompts import PromptTemplate\n",
    "from langchain_core.pydantic_v1 import BaseModel, Field"
   ]
  },
  {
   "cell_type": "code",
   "execution_count": 12,
   "id": "307b0246",
   "metadata": {},
   "outputs": [],
   "source": [
    "class Joke(BaseModel):\n",
    "    Setup: str = Field(description=\"question to set up a joke\")\n",
    "    punchline : str = Field(description=\"answer to resolve the joke\")"
   ]
  },
  {
   "cell_type": "code",
   "execution_count": 14,
   "id": "4c29f66e",
   "metadata": {},
   "outputs": [],
   "source": [
    "parser = JsonOutputParser(pydantic_object=Joke)"
   ]
  },
  {
   "cell_type": "code",
   "execution_count": 23,
   "id": "e927fef5",
   "metadata": {},
   "outputs": [],
   "source": [
    "prompt = PromptTemplate(\n",
    "    template = \"Answer the user query. \\n {format_instructions} \\n {query}\",\n",
    "    input_variables=[\"query\"],\n",
    "    partial_variables  = {\"format_instructions\" : parser.get_format_instructions()},\n",
    ")\n"
   ]
  },
  {
   "cell_type": "code",
   "execution_count": 24,
   "id": "278c9340",
   "metadata": {},
   "outputs": [],
   "source": [
    "chain = prompt | llm_model | parser"
   ]
  },
  {
   "cell_type": "code",
   "execution_count": 25,
   "id": "2d546b32",
   "metadata": {},
   "outputs": [
    {
     "data": {
      "text/plain": [
       "{'Setup': 'Why was the math book sad?',\n",
       " 'punchline': 'Because it had too many problems.'}"
      ]
     },
     "execution_count": 25,
     "metadata": {},
     "output_type": "execute_result"
    }
   ],
   "source": [
    "chain.invoke({\"query\": \"tell me a joke\"})"
   ]
  },
  {
   "cell_type": "markdown",
   "id": "719b8bcf",
   "metadata": {},
   "source": []
  }
 ],
 "metadata": {
  "kernelspec": {
   "display_name": "langchain",
   "language": "python",
   "name": "python3"
  },
  "language_info": {
   "codemirror_mode": {
    "name": "ipython",
    "version": 3
   },
   "file_extension": ".py",
   "mimetype": "text/x-python",
   "name": "python",
   "nbconvert_exporter": "python",
   "pygments_lexer": "ipython3",
   "version": "3.10.11"
  }
 },
 "nbformat": 4,
 "nbformat_minor": 5
}
