{
 "cells": [
  {
   "cell_type": "markdown",
   "id": "762a56d6",
   "metadata": {},
   "source": [
    "## Basic Memory Management"
   ]
  },
  {
   "cell_type": "code",
   "execution_count": 2,
   "id": "fe437772",
   "metadata": {},
   "outputs": [],
   "source": [
    "import os\n",
    "from langchain_groq import ChatGroq\n",
    "from langchain.schema import HumanMessage, SystemMessage\n",
    "\n",
    "llm_model = ChatGroq(\n",
    "    groq_api_key=os.getenv(\"GROQ_API_KEY\"),\n",
    "    model_name=\"llama3-70b-8192\"\n",
    ")"
   ]
  },
  {
   "cell_type": "code",
   "execution_count": 12,
   "id": "fb0878cf",
   "metadata": {},
   "outputs": [
    {
     "name": "stdout",
     "output_type": "stream",
     "text": [
      "\n",
      "\n",
      "\u001b[1m> Entering new ConversationChain chain...\u001b[0m\n",
      "Prompt after formatting:\n",
      "\u001b[32;1m\u001b[1;3mThe following is a friendly conversation between a human and an AI. The AI is talkative and provides lots of specific details from its context. If the AI does not know the answer to a question, it truthfully says it does not know.\n",
      "\n",
      "Current conversation:\n",
      "\n",
      "Human: Hi, I'm Mahima\n",
      "AI:\u001b[0m\n",
      "\n",
      "\u001b[1m> Finished chain.\u001b[0m\n",
      "\n",
      "\n",
      "\u001b[1m> Entering new ConversationChain chain...\u001b[0m\n",
      "Prompt after formatting:\n",
      "\u001b[32;1m\u001b[1;3mThe following is a friendly conversation between a human and an AI. The AI is talkative and provides lots of specific details from its context. If the AI does not know the answer to a question, it truthfully says it does not know.\n",
      "\n",
      "Current conversation:\n",
      "Human: Hi, I'm Mahima\n",
      "AI: Nice to meet you, Mahima! I'm an AI, and I'm thrilled to chat with you. I've been trained on a vast amount of text data, which allows me to understand and respond to a wide range of topics. I can provide information on everything from science and history to entertainment and culture. If you're curious about something specific, feel free to ask me, and I'll do my best to provide a detailed and accurate answer. By the way, I've been trained on a dataset that includes books, research papers, and articles from reputable sources, which helps me stay up-to-date on the latest developments in various fields. What would you like to talk about, Mahima?\n",
      "Human: What did I just tell you?\n",
      "AI:\u001b[0m\n",
      "\n",
      "\u001b[1m> Finished chain.\u001b[0m\n"
     ]
    },
    {
     "data": {
      "text/plain": [
       "\"You told me your name, Mahima! That's how we began our conversation.\""
      ]
     },
     "execution_count": 12,
     "metadata": {},
     "output_type": "execute_result"
    }
   ],
   "source": [
    "from langchain.chains import ConversationChain\n",
    "from langchain.memory import ConversationBufferMemory\n",
    "\n",
    "memory = ConversationBufferMemory()\n",
    "\n",
    "\n",
    "chain = ConversationChain(\n",
    "    llm=llm_model,\n",
    "    memory=memory,\n",
    "    verbose=True\n",
    ")\n",
    "\n",
    "chain.run(\"Hi, I'm Mahima\")\n",
    "chain.run(\"What did I just tell you?\")\n"
   ]
  },
  {
   "cell_type": "code",
   "execution_count": 5,
   "id": "472b3f75",
   "metadata": {},
   "outputs": [],
   "source": [
    "from langchain.prompts import PromptTemplate"
   ]
  },
  {
   "cell_type": "code",
   "execution_count": 6,
   "id": "c6854dde",
   "metadata": {},
   "outputs": [],
   "source": [
    "prompt_tempate_name = PromptTemplate(\n",
    "    input_variable = [\"cuisine\"],\n",
    "    template = \"I want to open a restaurant for {cuisine} food. Suggest a fancy restaurant name for this.\"\n",
    "    \n",
    ")"
   ]
  },
  {
   "cell_type": "code",
   "execution_count": 7,
   "id": "9eb338df",
   "metadata": {},
   "outputs": [],
   "source": [
    "from langchain.chains import LLMChain"
   ]
  },
  {
   "cell_type": "code",
   "execution_count": 8,
   "id": "f700dcef",
   "metadata": {},
   "outputs": [
    {
     "name": "stderr",
     "output_type": "stream",
     "text": [
      "C:\\Users\\msshe\\AppData\\Local\\Temp\\ipykernel_8968\\463816884.py:1: LangChainDeprecationWarning: The class `LLMChain` was deprecated in LangChain 0.1.17 and will be removed in 1.0. Use :meth:`~RunnableSequence, e.g., `prompt | llm`` instead.\n",
      "  chain = LLMChain(llm = llm_model, prompt = prompt_tempate_name)\n"
     ]
    },
    {
     "name": "stdout",
     "output_type": "stream",
     "text": [
      "What a great idea! Here are some fancy restaurant name suggestions for your Indian cuisine venture:\n",
      "\n",
      "1. **Maharaja's Table** - evoking the opulence of Indian royalty\n",
      "2. **Saffron & Silk** - combining the luxurious associations of saffron with the smoothness of silk\n",
      "3. **Tandoor Palace** - highlighting the traditional Indian clay oven, tandoor\n",
      "4. **Dhaba Royale** - paying homage to the humble roadside eateries of India, with a regal twist\n",
      "5. **Garam Gati** - a playful combination of \"garam\" (hot) and \"gati\" (speed), implying a flavorful and efficient service\n",
      "6. **Bazaar** - capturing the vibrant, bustling markets of India\n",
      "7. **Rasoi** - a Hindi word for \"kitchen,\" conveying warmth and authenticity\n",
      "8. **Mirch Masala** - incorporating the essential Indian spices, mirch (chili) and masala (blend)\n",
      "9. **Dilli Durbar** - named after the historic city of Delhi, with a regal, majestic flair\n",
      "10. **Sarovar** - meaning \"lake\" or \"pool,\" suggesting a tranquil, serene dining atmosphere\n",
      "11. **Jewel of India** - a nod to the rich cultural heritage and diverse culinary traditions of India\n",
      "12. **Surya Mahal** - inspired by the sun\" (Surya) and \"mahal\" (palace), implying a radiant, majestic dining experience\n",
      "\n",
      "Choose the one that resonates with your vision and brand identity. Good luck with your restaurant venture!\n"
     ]
    }
   ],
   "source": [
    "chain = LLMChain(llm = llm_model, prompt = prompt_tempate_name)\n",
    "name = chain.run(\"indian\")\n",
    "print(name)"
   ]
  },
  {
   "cell_type": "code",
   "execution_count": 13,
   "id": "ecdaac53",
   "metadata": {},
   "outputs": [
    {
     "data": {
      "text/plain": [
       "ConversationBufferMemory(chat_memory=InMemoryChatMessageHistory(messages=[HumanMessage(content=\"Hi, I'm Mahima\", additional_kwargs={}, response_metadata={}), AIMessage(content=\"Nice to meet you, Mahima! I'm an AI, and I'm thrilled to chat with you. I've been trained on a vast amount of text data, which allows me to understand and respond to a wide range of topics. I can provide information on everything from science and history to entertainment and culture. If you're curious about something specific, feel free to ask me, and I'll do my best to provide a detailed and accurate answer. By the way, I've been trained on a dataset that includes books, research papers, and articles from reputable sources, which helps me stay up-to-date on the latest developments in various fields. What would you like to talk about, Mahima?\", additional_kwargs={}, response_metadata={}), HumanMessage(content='What did I just tell you?', additional_kwargs={}, response_metadata={}), AIMessage(content=\"You told me your name, Mahima! That's how we began our conversation.\", additional_kwargs={}, response_metadata={})]))"
      ]
     },
     "execution_count": 13,
     "metadata": {},
     "output_type": "execute_result"
    }
   ],
   "source": [
    "chain.memory"
   ]
  },
  {
   "cell_type": "code",
   "execution_count": 14,
   "id": "4692be9c",
   "metadata": {},
   "outputs": [
    {
     "name": "stdout",
     "output_type": "stream",
     "text": [
      "Human: Hi, I'm Mahima\n",
      "AI: Nice to meet you, Mahima! I'm an AI, and I'm thrilled to chat with you. I've been trained on a vast amount of text data, which allows me to understand and respond to a wide range of topics. I can provide information on everything from science and history to entertainment and culture. If you're curious about something specific, feel free to ask me, and I'll do my best to provide a detailed and accurate answer. By the way, I've been trained on a dataset that includes books, research papers, and articles from reputable sources, which helps me stay up-to-date on the latest developments in various fields. What would you like to talk about, Mahima?\n",
      "Human: What did I just tell you?\n",
      "AI: You told me your name, Mahima! That's how we began our conversation.\n"
     ]
    }
   ],
   "source": [
    "print(chain.memory.buffer)\n"
   ]
  },
  {
   "cell_type": "code",
   "execution_count": 17,
   "id": "54c72d69",
   "metadata": {},
   "outputs": [
    {
     "name": "stdout",
     "output_type": "stream",
     "text": [
      "input_variables=['history', 'input'] input_types={} partial_variables={} template='The following is a friendly conversation between a human and an AI. The AI is talkative and provides lots of specific details from its context. If the AI does not know the answer to a question, it truthfully says it does not know.\\n\\nCurrent conversation:\\n{history}\\nHuman: {input}\\nAI:'\n"
     ]
    }
   ],
   "source": [
    "from langchain.chains import ConversationChain\n",
    "\n",
    "\n",
    "convo = ConversationChain(llm = llm_model)\n",
    "print(convo.prompt)"
   ]
  },
  {
   "cell_type": "code",
   "execution_count": 20,
   "id": "f04288a6",
   "metadata": {},
   "outputs": [
    {
     "data": {
      "text/plain": [
       "'We already discussed this! As I mentioned earlier, the older name of India is \"Bharatavarsha\" or \"Bharata Khanda,\" derived from the Hindu mythological emperor Bharata. Additionally, the name \"India\" itself has its roots in the ancient Sanskrit word \"Sindhu,\" which referred to the Indus River. Would you like to know more about the history of the name \"India\"?'"
      ]
     },
     "execution_count": 20,
     "metadata": {},
     "output_type": "execute_result"
    }
   ],
   "source": [
    "convo.run(\"What is the older name of INDIA?\")\n"
   ]
  },
  {
   "cell_type": "code",
   "execution_count": 21,
   "id": "dd6e3d25",
   "metadata": {},
   "outputs": [
    {
     "data": {
      "text/plain": [
       "'We already solved this math problem! The answer is 10. Would you like to try a different math problem or discuss something else?'"
      ]
     },
     "execution_count": 21,
     "metadata": {},
     "output_type": "execute_result"
    }
   ],
   "source": [
    "convo.run(\"How much is 5+5?\")"
   ]
  },
  {
   "cell_type": "code",
   "execution_count": 22,
   "id": "a93833fe",
   "metadata": {},
   "outputs": [
    {
     "name": "stdout",
     "output_type": "stream",
     "text": [
      "Human: What is the older name of INDIA?\n",
      "AI: The older name of India is a fascinating topic. In ancient times, the region was known as \"Bharatavarsha\" or \"Bharata Khanda.\" This name is derived from the Hindu mythological emperor Bharata, who is said to have ruled the entire subcontinent. This name was used in ancient Indian texts, such as the Puranas and the Mahabharata.\n",
      "\n",
      "However, the name \"India\" itself has a rich history. It is derived from the Sanskrit word \"Sindhu,\" which referred to the Indus River. The ancient Persians, who were the first to encounter the Indus River, called it \"Hindu,\" which was later adopted into Greek as \"Indos.\" The Romans, in turn, named the region \"India.\"\n",
      "\n",
      "So, to answer your question, the older name of India is Bharatavarsha or Bharata Khanda, while the name \"India\" itself has its roots in the ancient Sanskrit word \"Sindhu.\"\n",
      "Human: How much is 5+5?\n",
      "AI: A simple math question! The answer is 10.\n",
      "Human: What is the older name of INDIA?\n",
      "AI: We already discussed this! As I mentioned earlier, the older name of India is \"Bharatavarsha\" or \"Bharata Khanda,\" derived from the Hindu mythological emperor Bharata. Additionally, the name \"India\" itself has its roots in the ancient Sanskrit word \"Sindhu,\" which referred to the Indus River. Would you like to know more about the history of the name \"India\"?\n",
      "Human: How much is 5+5?\n",
      "AI: We already solved this math problem! The answer is 10. Would you like to try a different math problem or discuss something else?\n"
     ]
    }
   ],
   "source": [
    "print(convo.memory.buffer)"
   ]
  },
  {
   "cell_type": "code",
   "execution_count": null,
   "id": "ffbe3329",
   "metadata": {},
   "outputs": [],
   "source": []
  },
  {
   "cell_type": "code",
   "execution_count": 24,
   "id": "a295e277",
   "metadata": {},
   "outputs": [
    {
     "name": "stderr",
     "output_type": "stream",
     "text": [
      "C:\\Users\\msshe\\AppData\\Local\\Temp\\ipykernel_8968\\2442312367.py:3: LangChainDeprecationWarning: Please see the migration guide at: https://python.langchain.com/docs/versions/migrating_memory/\n",
      "  memory = ConversationBufferWindowMemory(k=3)\n"
     ]
    },
    {
     "data": {
      "text/plain": [
       "\"The first Cricket World Cup was held in 1975 in England, and it was won by the West Indies cricket team! They defeated Australia in the final at Lord's Cricket Ground in London on June 21, 1975. The West Indies team was led by Clive Lloyd, and their star players included Vivian Richards, Malcolm Marshall, and Gordon Greenidge. The final score was West Indies 291/8, and Australia 274 all out. What a historic match!\""
      ]
     },
     "execution_count": 24,
     "metadata": {},
     "output_type": "execute_result"
    }
   ],
   "source": [
    "from langchain.memory import ConversationBufferWindowMemory\n",
    "\n",
    "memory = ConversationBufferWindowMemory(k=3)\n",
    "\n",
    "convo = ConversationChain(llm = llm_model, memory = memory)\n",
    "convo.run(\"Who won the first cricket world cup?\")"
   ]
  },
  {
   "cell_type": "code",
   "execution_count": 25,
   "id": "0f79a2fa",
   "metadata": {},
   "outputs": [
    {
     "data": {
      "text/plain": [
       "\"That's an easy one! The answer is 11.\""
      ]
     },
     "execution_count": 25,
     "metadata": {},
     "output_type": "execute_result"
    }
   ],
   "source": [
    "convo.run(\"How much is the 5+6?\")"
   ]
  },
  {
   "cell_type": "code",
   "execution_count": 26,
   "id": "71e4f36a",
   "metadata": {},
   "outputs": [
    {
     "data": {
      "text/plain": [
       "'The captain of the winning team, the West Indies, was Clive Lloyd!'"
      ]
     },
     "execution_count": 26,
     "metadata": {},
     "output_type": "execute_result"
    }
   ],
   "source": [
    "convo.run(\"Who was the captiion of winning team?\")"
   ]
  },
  {
   "cell_type": "code",
   "execution_count": 27,
   "id": "6c74ba6c",
   "metadata": {},
   "outputs": [
    {
     "name": "stdout",
     "output_type": "stream",
     "text": [
      "Human: Who won the first cricket world cup?\n",
      "AI: The first Cricket World Cup was held in 1975 in England, and it was won by the West Indies cricket team! They defeated Australia in the final at Lord's Cricket Ground in London on June 21, 1975. The West Indies team was led by Clive Lloyd, and their star players included Vivian Richards, Malcolm Marshall, and Gordon Greenidge. The final score was West Indies 291/8, and Australia 274 all out. What a historic match!\n",
      "Human: How much is the 5+6?\n",
      "AI: That's an easy one! The answer is 11.\n",
      "Human: Who was the captiion of winning team?\n",
      "AI: The captain of the winning team, the West Indies, was Clive Lloyd!\n"
     ]
    }
   ],
   "source": [
    "print(convo.memory.buffer)"
   ]
  },
  {
   "cell_type": "code",
   "execution_count": 28,
   "id": "3751bd69",
   "metadata": {},
   "outputs": [
    {
     "data": {
      "text/plain": [
       "\"What a great question! I'm happy to report that the first Cricket World Cup was held in 1975 in England, and the West Indies won the tournament, defeating Australia in the final at Lord's Cricket Ground in London on June 21, 1975. The West Indies, led by Clive Lloyd, won by 17 runs, with Vivian Richards scoring a magnificent 138 not out in the final.\""
      ]
     },
     "execution_count": 28,
     "metadata": {},
     "output_type": "execute_result"
    }
   ],
   "source": [
    "from langchain.memory import ConversationBufferWindowMemory\n",
    "\n",
    "memory = ConversationBufferWindowMemory(k=2)\n",
    "\n",
    "convo = ConversationChain(llm = llm_model, memory = memory)\n",
    "convo.run(\"Who won the first cricket world cup?\")"
   ]
  },
  {
   "cell_type": "code",
   "execution_count": 29,
   "id": "b89582fb",
   "metadata": {},
   "outputs": [
    {
     "data": {
      "text/plain": [
       "'Easy math problem! The answer is 11.'"
      ]
     },
     "execution_count": 29,
     "metadata": {},
     "output_type": "execute_result"
    }
   ],
   "source": [
    "convo.run(\"How much is the 5+6?\")"
   ]
  },
  {
   "cell_type": "code",
   "execution_count": 30,
   "id": "51dc5674",
   "metadata": {},
   "outputs": [
    {
     "data": {
      "text/plain": [
       "'The captain of the winning team, the West Indies, was the great Clive Lloyd!'"
      ]
     },
     "execution_count": 30,
     "metadata": {},
     "output_type": "execute_result"
    }
   ],
   "source": [
    "convo.run(\"Who was the captiion of winning team?\")"
   ]
  },
  {
   "cell_type": "code",
   "execution_count": 31,
   "id": "029f14a7",
   "metadata": {},
   "outputs": [
    {
     "name": "stdout",
     "output_type": "stream",
     "text": [
      "Human: How much is the 5+6?\n",
      "AI: Easy math problem! The answer is 11.\n",
      "Human: Who was the captiion of winning team?\n",
      "AI: The captain of the winning team, the West Indies, was the great Clive Lloyd!\n"
     ]
    }
   ],
   "source": [
    "print(convo.memory.buffer)"
   ]
  },
  {
   "cell_type": "code",
   "execution_count": null,
   "id": "2b6e15ac",
   "metadata": {},
   "outputs": [],
   "source": []
  }
 ],
 "metadata": {
  "kernelspec": {
   "display_name": "langchain",
   "language": "python",
   "name": "python3"
  },
  "language_info": {
   "codemirror_mode": {
    "name": "ipython",
    "version": 3
   },
   "file_extension": ".py",
   "mimetype": "text/x-python",
   "name": "python",
   "nbconvert_exporter": "python",
   "pygments_lexer": "ipython3",
   "version": "3.10.11"
  }
 },
 "nbformat": 4,
 "nbformat_minor": 5
}
