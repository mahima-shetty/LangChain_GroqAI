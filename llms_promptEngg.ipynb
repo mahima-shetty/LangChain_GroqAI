{
 "cells": [
  {
   "cell_type": "markdown",
   "id": "a4140d0b",
   "metadata": {},
   "source": [
    "## Prompt Engineering"
   ]
  },
  {
   "cell_type": "markdown",
   "id": "fc570f2b",
   "metadata": {},
   "source": [
    "Basic Prompt"
   ]
  },
  {
   "cell_type": "code",
   "execution_count": 5,
   "id": "22966859",
   "metadata": {},
   "outputs": [],
   "source": [
    "from dotenv import load_dotenv\n",
    "import os"
   ]
  },
  {
   "cell_type": "code",
   "execution_count": 4,
   "metadata": {},
   "outputs": [
    {
     "data": {
      "text/plain": [
       "True"
      ]
     },
     "execution_count": 4,
     "metadata": {},
     "output_type": "execute_result"
    }
   ],
   "source": [
    "load_dotenv()"
   ]
  },
  {
   "cell_type": "code",
   "execution_count": 7,
   "metadata": {},
   "outputs": [],
   "source": [
    "from langchain_groq import ChatGroq\n",
    "from langchain.schema import HumanMessage, SystemMessage\n",
    "\n",
    "llm_model = ChatGroq(\n",
    "    groq_api_key=os.getenv(\"GROQ_API_KEY\"),\n",
    "    model_name=\"llama3-70b-8192\"\n",
    ")"
   ]
  },
  {
   "cell_type": "code",
   "execution_count": 8,
   "metadata": {},
   "outputs": [
    {
     "data": {
      "text/plain": [
       "ChatGroq(client=<groq.resources.chat.completions.Completions object at 0x000002235F66A6B0>, async_client=<groq.resources.chat.completions.AsyncCompletions object at 0x000002235F6A4970>, model_name='llama3-70b-8192', model_kwargs={}, groq_api_key=SecretStr('**********'))"
      ]
     },
     "execution_count": 8,
     "metadata": {},
     "output_type": "execute_result"
    }
   ],
   "source": [
    "llm_model"
   ]
  },
  {
   "cell_type": "markdown",
   "id": "3e258e5f",
   "metadata": {},
   "source": [
    "## Using PromptTemplate "
   ]
  },
  {
   "cell_type": "code",
   "execution_count": 11,
   "metadata": {},
   "outputs": [],
   "source": [
    "from langchain.prompts import PromptTemplate\n",
    "\n",
    "prompt_template = PromptTemplate.from_template(\n",
    "    \"Tell me a {adjective} story about this {topic}\"    \n",
    ")\n",
    "\n",
    "llm_model_Prompt = prompt_template.format(\n",
    "    adjective = \"curious\",\n",
    "    topic = \"Job Switch and presenting as experienced in the data science and gen ai domain\"\n",
    ")\n"
   ]
  },
  {
   "cell_type": "code",
   "execution_count": 14,
   "metadata": {},
   "outputs": [
    {
     "name": "stdout",
     "output_type": "stream",
     "text": [
      "input_variables=['adjective', 'topic'] input_types={} partial_variables={} template='Tell me a {adjective} story about this {topic}'\n",
      "Tell me a curious story about this Job Switch and presenting as experienced in the data science and gen ai domain\n"
     ]
    }
   ],
   "source": [
    "print(prompt_template)\n",
    "print(llm_model_Prompt)"
   ]
  },
  {
   "cell_type": "code",
   "execution_count": 16,
   "id": "863ef6df",
   "metadata": {},
   "outputs": [],
   "source": [
    "result = llm_model.invoke(llm_model_Prompt)"
   ]
  },
  {
   "cell_type": "code",
   "execution_count": 17,
   "id": "3101b9f7",
   "metadata": {},
   "outputs": [
    {
     "name": "stdout",
     "output_type": "stream",
     "text": [
      "Here's a curious story about a job switch and presenting as experienced in the data science and gen AI domain:\n",
      "\n",
      "**The Mysterious Case of Dr. Rachel Kim**\n",
      "\n",
      "Dr. Rachel Kim, a renowned AI researcher, had been working at a top-secret government lab for over a decade. Her work on advanced neural networks and generative AI had been shrouded in mystery, with only whispers of her groundbreaking research making it to the academic circles.\n",
      "\n",
      "One day, out of the blue, Dr. Kim announced her resignation from the government lab, leaving her colleagues stunned. The academic community was abuzz with speculation about her next move.\n",
      "\n",
      "A few weeks later, Dr. Kim resurfaced, this time as the Chief Data Scientist at a fledgling startup, **NeuroSpark**, which had been quietly building a revolutionary AI-powered platform for personalized healthcare.\n",
      "\n",
      "What piqued the interest of the data science community was Dr. Kim's bold claim that she had developed a novel approach to generative AI, capable of predicting patient outcomes with uncanny accuracy. Her startup, NeuroSpark, was touted as the next big thing in healthcare AI.\n",
      "\n",
      "As Dr. Kim began to present her research at top conferences and publishing papers in leading journals, her expertise in data science and gen AI was undeniable. Her talks were always packed, with attendees hanging onto her every sentence. Her papers were downloaded by the thousands, with researchers scrambling to understand the intricacies of her approach.\n",
      "\n",
      "**The Curious Part**\n",
      "\n",
      "Here's where things took a curious turn: despite Dr. Kim's impressive credentials and research, there were whispers among the data science community that she had never actually worked with large-scale datasets or implemented AI systems in production environments. Her research, although groundbreaking, was largely theoretical.\n",
      "\n",
      "Some even questioned how she had managed to develop such a sophisticated AI platform for NeuroSpark, given her lack of industry experience. Rumor had it that she had been \"reverse-engineering\" her way through the startup's codebase, using her research knowledge to improvise and innovate.\n",
      "\n",
      "**The Verdict**\n",
      "\n",
      "As the data science community continued to scrutinize Dr. Kim's background, one thing became clear: she was an exceptional researcher, able to distill complex concepts into actionable knowledge. Her theoretical expertise, combined with her natural aptitude for problem-solving, had allowed her to \"fake it till she made it\" in the industry.\n",
      "\n",
      "In the end, Dr. Kim's remarkable story served as a testament to the power of curiosity, creativity, and determination. Her ability to bridge the gap between academia and industry, despite her unconventional background, inspired a new generation of data scientists and AI researchers to think outside the box (or in this case, the dataset).\n",
      "\n",
      "**The Moral**\n",
      "\n",
      "For those looking to make a similar career switch, Dr. Kim's story serves as a reminder that:\n",
      "\n",
      "1. **Theoretical knowledge matters**: While industry experience is valuable, a deep understanding of the underlying principles can take you far.\n",
      "2. **Creativity and problem-solving skills are essential**: Being able to think on your feet and adapt to new situations can help you navigate unfamiliar territory.\n",
      "3. **Curiosity and determination can overcome perceived limitations**: With hard work and a growth mindset, you can bridge the gap between academia and industry, even if your background is unconventional.\n",
      "\n",
      "And so, the mysterious case of Dr. Rachel Kim remains an inspiration to those looking to make a mark in the data science and gen AI domain.\n"
     ]
    }
   ],
   "source": [
    "print(result.content)"
   ]
  },
  {
   "cell_type": "markdown",
   "id": "2a8cffa1",
   "metadata": {},
   "source": [
    "## Chat Completion Model"
   ]
  },
  {
   "cell_type": "code",
   "execution_count": 21,
   "id": "3fb174c6",
   "metadata": {},
   "outputs": [],
   "source": [
    "llm_model = ChatGroq(\n",
    "    groq_api_key=os.getenv(\"GROQ_API_KEY\"),\n",
    "    model_name=\"llama3-70b-8192\"\n",
    ")"
   ]
  },
  {
   "cell_type": "code",
   "execution_count": 19,
   "id": "04f3d3c0",
   "metadata": {},
   "outputs": [],
   "source": [
    "from langchain_core.prompts import ChatPromptTemplate\n",
    "\n",
    "Chat_template =  ChatPromptTemplate.from_messages(\n",
    "    [\n",
    "        (\"system\", \"You are a amazing {profession} expert on {topic}\"),\n",
    "        (\"human\", \"Hello Mr.{profession} Can you please answer a questions? \"),\n",
    "        (\"ai\", \"Sure!\"),\n",
    "        (\"human\", \"{user_input}\")\n",
    "    ]\n",
    ")"
   ]
  },
  {
   "cell_type": "code",
   "execution_count": null,
   "id": "a5dcb0fb",
   "metadata": {},
   "outputs": [],
   "source": [
    "messages = Chat_template.format_messages(\n",
    "    profession=\"Dietician\",\n",
    "    topic=\"Weight loss\",\n",
    "    user_input=\"In total fasting, without water, I have lost weight 2kgs in just couple of hours\"\n",
    ")"
   ]
  },
  {
   "cell_type": "code",
   "execution_count": 22,
   "id": "f2b10f30",
   "metadata": {},
   "outputs": [
    {
     "name": "stdout",
     "output_type": "stream",
     "text": [
      "I have to stop you right there!\n",
      "\n",
      "As a dietitian, I must inform you that total fasting without water for even a short period is not only unsafe but also unsustainable for weight loss. In fact, it's not a healthy or reliable way to lose weight.\n",
      "\n",
      "Firstly, the weight loss you're experiencing is likely due to water loss, not fat loss. When you don't drink water, your body will rapidly dehydrate, leading to a drop in weight. This is not a reflection of actual fat loss or a change in body composition.\n",
      "\n",
      "Moreover, fasting without water can lead to serious health complications, such as:\n",
      "\n",
      "1. Dehydration: This can cause dizziness, headaches, fatigue, and organ damage.\n",
      "2. Electrolyte imbalance: Lack of water can disrupt the balance of essential electrolytes, leading to weakness, muscle cramps, and heart problems.\n",
      "3. Malnutrition: Prolonged fasting can lead to a lack of essential nutrients, vitamins, and minerals.\n",
      "4. Kidney damage: Inadequate water intake can put a strain on your kidneys, which can lead to chronic kidney disease.\n",
      "\n",
      "Instead, I would recommend focusing on sustainable, evidence-based weight loss strategies, such as:\n",
      "\n",
      "1. A balanced diet with plenty of fruits, vegetables, whole grains, lean proteins, and healthy fats.\n",
      "2. Staying hydrated by drinking plenty of water throughout the day.\n",
      "3. Aiming for a caloric deficit of 500-1000 calories per day to promote weight loss.\n",
      "4. Incorporating regular physical exercise, such as briskly walking for at least 30 minutes, five days a week.\n",
      "\n",
      "Remember, crash diets, extreme calorie restriction, and dehydration are not only ineffective but also harmful to your overall health. It's essential to prioritize a balanced, sustainable approach to weight loss that focuses on nourishing your body, rather than starving it.\n",
      "\n",
      "Let's work together to create a personalized weight loss strategy that suits your health and well-being.\n"
     ]
    }
   ],
   "source": [
    "response = llm_model.invoke(messages)\n",
    "print(response.content)"
   ]
  },
  {
   "cell_type": "code",
   "execution_count": null,
   "id": "4f59ef93",
   "metadata": {},
   "outputs": [],
   "source": []
  },
  {
   "cell_type": "markdown",
   "id": "3facf63e",
   "metadata": {},
   "source": [
    "## Few Shot Prompting"
   ]
  },
  {
   "cell_type": "code",
   "execution_count": 24,
   "id": "7e25676f",
   "metadata": {},
   "outputs": [],
   "source": [
    "from langchain_core.prompts import FewShotChatMessagePromptTemplate\n",
    "\n",
    "examples = [\n",
    "    {\"input\": \"hi!\", \"output\": \"Hola!\"},\n",
    "    {\"input\": \"bye!\", \"output\": \"Adios!\"}\n",
    "]"
   ]
  },
  {
   "cell_type": "code",
   "execution_count": 28,
   "id": "44e29d9f",
   "metadata": {},
   "outputs": [],
   "source": [
    "example_prompt = ChatPromptTemplate.from_messages(\n",
    "    [\n",
    "        (\"human\", \"{input}\"),\n",
    "        (\"ai\", \"{output}\")\n",
    "    ]\n",
    ")"
   ]
  },
  {
   "cell_type": "code",
   "execution_count": 29,
   "id": "ea3cf33d",
   "metadata": {},
   "outputs": [],
   "source": [
    "few_shot_prompt = FewShotChatMessagePromptTemplate(example_prompt=example_prompt, examples=examples)"
   ]
  },
  {
   "cell_type": "code",
   "execution_count": 33,
   "id": "a8f23fa5",
   "metadata": {},
   "outputs": [],
   "source": [
    "final_prompt=ChatPromptTemplate.from_messages(\n",
    "    [(\"system\", \"You are an English-Spanish translator!\"),\n",
    "     few_shot_prompt,\n",
    "     (\"human\",\"{input}\")\n",
    "     ]\n",
    ")"
   ]
  },
  {
   "cell_type": "code",
   "execution_count": 35,
   "id": "022fc0f1",
   "metadata": {},
   "outputs": [],
   "source": [
    "input_text = \"I am learning PROGRAMMING\""
   ]
  },
  {
   "cell_type": "code",
   "execution_count": 36,
   "id": "54fa369d",
   "metadata": {},
   "outputs": [],
   "source": [
    "response = llm_model.invoke(final_prompt.format(input=input_text))"
   ]
  },
  {
   "cell_type": "code",
   "execution_count": 37,
   "id": "1edceef7",
   "metadata": {},
   "outputs": [
    {
     "name": "stdout",
     "output_type": "stream",
     "text": [
      "Estoy aprendiendo PROGRAMACIÓN.\n"
     ]
    }
   ],
   "source": [
    "print(response.content)"
   ]
  },
  {
   "cell_type": "code",
   "execution_count": null,
   "id": "6285f99d",
   "metadata": {},
   "outputs": [],
   "source": []
  }
 ],
 "metadata": {
  "kernelspec": {
   "display_name": "langchain",
   "language": "python",
   "name": "python3"
  },
  "language_info": {
   "codemirror_mode": {
    "name": "ipython",
    "version": 3
   },
   "file_extension": ".py",
   "mimetype": "text/x-python",
   "name": "python",
   "nbconvert_exporter": "python",
   "pygments_lexer": "ipython3",
   "version": "3.10.11"
  }
 },
 "nbformat": 4,
 "nbformat_minor": 5
}
