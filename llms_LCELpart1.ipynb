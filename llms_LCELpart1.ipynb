{
 "cells": [
  {
   "cell_type": "code",
   "execution_count": 1,
   "id": "be3cd74c",
   "metadata": {},
   "outputs": [],
   "source": [
    "from langchain.chains import LLMChain\n",
    "from langchain.prompts import ChatPromptTemplate\n",
    "prompt = ChatPromptTemplate.from_template(\"tell me a curious fact about {soccer_player}\")\n"
   ]
  },
  {
   "cell_type": "code",
   "execution_count": 2,
   "id": "e64f9509",
   "metadata": {},
   "outputs": [],
   "source": [
    "import os\n",
    "from langchain_groq import ChatGroq\n",
    "from langchain.schema import HumanMessage, SystemMessage\n",
    "\n",
    "llm_model = ChatGroq(\n",
    "    groq_api_key=os.getenv(\"GROQ_API_KEY\"),\n",
    "    model_name=\"llama3-70b-8192\"\n",
    ")"
   ]
  },
  {
   "cell_type": "code",
   "execution_count": 6,
   "id": "beafc721",
   "metadata": {},
   "outputs": [
    {
     "name": "stderr",
     "output_type": "stream",
     "text": [
      "C:\\Users\\msshe\\AppData\\Local\\Temp\\ipykernel_10396\\547486294.py:1: LangChainDeprecationWarning: The class `LLMChain` was deprecated in LangChain 0.1.17 and will be removed in 1.0. Use :meth:`~RunnableSequence, e.g., `prompt | llm`` instead.\n",
      "  traditional_chain = LLMChain(llm=llm_model, prompt=prompt)\n"
     ]
    }
   ],
   "source": [
    "traditional_chain = LLMChain(llm=llm_model, prompt=prompt)"
   ]
  },
  {
   "cell_type": "code",
   "execution_count": null,
   "id": "9d8e6c65",
   "metadata": {},
   "outputs": [
    {
     "data": {
      "text/plain": [
       "LLMChain(verbose=False, prompt=ChatPromptTemplate(input_variables=['soccer_player'], input_types={}, partial_variables={}, messages=[HumanMessagePromptTemplate(prompt=PromptTemplate(input_variables=['soccer_player'], input_types={}, partial_variables={}, template='tell me a curious fact about {soccer_player}'), additional_kwargs={})]), llm=ChatGroq(client=<groq.resources.chat.completions.Completions object at 0x0000021374E7AB00>, async_client=<groq.resources.chat.completions.AsyncCompletions object at 0x0000021374E785B0>, model_name='llama3-70b-8192', model_kwargs={}, groq_api_key=SecretStr('**********')), output_parser=StrOutputParser(), llm_kwargs={})"
      ]
     },
     "execution_count": 7,
     "metadata": {},
     "output_type": "execute_result"
    }
   ],
   "source": [
    "traditional_chain"
   ]
  },
  {
   "cell_type": "code",
   "execution_count": 9,
   "id": "1f9f4037",
   "metadata": {},
   "outputs": [
    {
     "data": {
      "text/plain": [
       "'Here\\'s one!\\n\\nDid you know that Madonna is a descendant of a French-Canadian family that was exiled from France during the French Revolution? Specifically, her great-great-grandfather, Pierre Dupont, was a French-Canadian farmer who fled France in 1774 to escape persecution during the Reign of Terror. He eventually settled in Quebec, Canada, where Madonna\\'s ancestors remained for generations before eventually moving to the United States.\\n\\nWho knew that the \"Queen of Pop\" had such a rich and dramatic ancestral history?'"
      ]
     },
     "execution_count": 9,
     "metadata": {},
     "output_type": "execute_result"
    }
   ],
   "source": [
    "traditional_chain.predict(soccer_player = \"Madonna\")"
   ]
  },
  {
   "cell_type": "code",
   "execution_count": null,
   "id": "14532aad",
   "metadata": {},
   "outputs": [],
   "source": []
  },
  {
   "cell_type": "markdown",
   "id": "6001aa3a",
   "metadata": {},
   "source": [
    "using pipe operator"
   ]
  },
  {
   "cell_type": "code",
   "execution_count": 6,
   "id": "576b0b09",
   "metadata": {},
   "outputs": [],
   "source": [
    "from langchain_core.output_parsers import StrOutputParser"
   ]
  },
  {
   "cell_type": "code",
   "execution_count": 12,
   "id": "df3b76e9",
   "metadata": {},
   "outputs": [],
   "source": [
    "from langchain_core.prompts import ChatPromptTemplate\n",
    "prompt = ChatPromptTemplate.from_template(\"tell me a curious fact about {politician}\")\n",
    "\n"
   ]
  },
  {
   "cell_type": "code",
   "execution_count": 19,
   "id": "b7a0b700",
   "metadata": {},
   "outputs": [],
   "source": [
    "chain = prompt | llm_model | StrOutputParser()\n",
    "\n"
   ]
  },
  {
   "cell_type": "code",
   "execution_count": 14,
   "id": "79a05412",
   "metadata": {},
   "outputs": [
    {
     "data": {
      "text/plain": [
       "\"Here's one:\\n\\nNarendra Modi, the current Prime Minister of India, was a tea vendor in his early life! Yes, you read that right. Modi, who hails from Vadnagar in Gujarat, used to sell tea at the Vadnagar railway station to help support his family. In fact, he even had a small tea stall at the bus stand in Ahmedabad, which was his first entrepreneurial venture. Who would have thought that one day, he would become the Prime Minister of India?\""
      ]
     },
     "execution_count": 14,
     "metadata": {},
     "output_type": "execute_result"
    }
   ],
   "source": [
    "chain.invoke({\"politician\": \"Narendra Modi\"})\n"
   ]
  },
  {
   "cell_type": "code",
   "execution_count": 15,
   "id": "1d019be3",
   "metadata": {},
   "outputs": [
    {
     "name": "stdout",
     "output_type": "stream",
     "text": [
      "A curious fact about Ronaldo, the soccer player, is that he is a highly skilled player who has won numerous awards and accolades throughout his career, including five Ballon d'Or awards, four European Golden Shoes, and numerous championships with top-tier clubs like Manchester United, Real Madrid, and Juventus."
     ]
    }
   ],
   "source": [
    "for s in chain.stream([{\"soccer_player\" : \"Ronaldo\"}]):\n",
    "    print(s, end = \"\", flush = True)\n",
    "    "
   ]
  },
  {
   "cell_type": "code",
   "execution_count": 20,
   "id": "41a576a1",
   "metadata": {},
   "outputs": [],
   "source": [
    "prompt = ChatPromptTemplate.from_template(\"tell me a curious fact about {soccer_player}\")\n"
   ]
  },
  {
   "cell_type": "code",
   "execution_count": 21,
   "id": "19fe92b8",
   "metadata": {},
   "outputs": [
    {
     "name": "stdout",
     "output_type": "stream",
     "text": [
      "Here's one:\n",
      "\n",
      "Did you know that Cristiano Ronaldo has a hotel room reserved in his name at the Pestana CR7 Hotel in Funchal, Portugal, and it's always kept ready for him, even when he's not staying there?\n",
      "\n",
      "The hotel, which bears his initials, is a luxury resort that Ronaldo co-owns, and the reserved room is reportedly his favorite, with a stunning view of the Atlantic Ocean. According to staff, the room is always kept spotless and ready for him to arrive at a moment's notice, with his favorite snacks and drinks stocked in the mini-bar.\n",
      "\n",
      "How's that for a fact about CR7?\n",
      "Here's one:\n",
      "\n",
      "**Lionel Messi has a condition called \"Growth Hormone Deficiency\" (GHD)**.\n",
      "\n",
      "When Messi was 11 years old, he was diagnosed with a growth hormone deficiency that restricted his growth. His family couldn't afford the treatment, which cost around $1,500 per month. However, Carles Rexach, the then-sporting director of FC, was so impressed with Messi's talent that he offered to pay for the treatment if Messi moved to Barcelona. Messi's parents accepted the offer, and the rest, as they say, is history!\n",
      "\n",
      "This condition didn't hold Messi back, and he went on to become one of the greatest football players of all time.\n"
     ]
    }
   ],
   "source": [
    "for s in chain.batch([\n",
    "    {\"soccer_player\": \"Ronaldo\"},\n",
    "    {\"soccer_player\": \"Messi\"}\n",
    "]):\n",
    "    print(s)\n"
   ]
  },
  {
   "cell_type": "code",
   "execution_count": null,
   "id": "599fbe24",
   "metadata": {},
   "outputs": [],
   "source": []
  }
 ],
 "metadata": {
  "kernelspec": {
   "display_name": "langchain",
   "language": "python",
   "name": "python3"
  },
  "language_info": {
   "codemirror_mode": {
    "name": "ipython",
    "version": 3
   },
   "file_extension": ".py",
   "mimetype": "text/x-python",
   "name": "python",
   "nbconvert_exporter": "python",
   "pygments_lexer": "ipython3",
   "version": "3.10.11"
  }
 },
 "nbformat": 4,
 "nbformat_minor": 5
}
