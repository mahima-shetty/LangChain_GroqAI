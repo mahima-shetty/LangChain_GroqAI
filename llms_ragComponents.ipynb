{
 "cells": [
  {
   "cell_type": "markdown",
   "id": "a542b51d",
   "metadata": {},
   "source": [
    "## Data "
   ]
  },
  {
   "cell_type": "markdown",
   "id": "c50512f7",
   "metadata": {},
   "source": [
    "1. Data load\n",
    "2. Split Data - Recursive text split & Character text\n",
    "3. Embed text -> Embedding\n",
    "4. Vector database\n",
    "5. Q -> Query -> Similarity Search & as_retriever"
   ]
  },
  {
   "cell_type": "markdown",
   "id": "a6661ee5",
   "metadata": {},
   "source": []
  },
  {
   "cell_type": "code",
   "execution_count": 18,
   "id": "d6c4afb5",
   "metadata": {},
   "outputs": [],
   "source": [
    "import os"
   ]
  },
  {
   "cell_type": "code",
   "execution_count": 4,
   "id": "db6424d7",
   "metadata": {},
   "outputs": [
    {
     "ename": "NameError",
     "evalue": "name 'os' is not defined",
     "output_type": "error",
     "traceback": [
      "\u001b[1;31m---------------------------------------------------------------------------\u001b[0m",
      "\u001b[1;31mNameError\u001b[0m                                 Traceback (most recent call last)",
      "Cell \u001b[1;32mIn[4], line 5\u001b[0m\n\u001b[0;32m      1\u001b[0m \u001b[38;5;28;01mfrom\u001b[39;00m\u001b[38;5;250m \u001b[39m\u001b[38;5;21;01mlangchain_groq\u001b[39;00m\u001b[38;5;250m \u001b[39m\u001b[38;5;28;01mimport\u001b[39;00m ChatGroq\n\u001b[0;32m      2\u001b[0m \u001b[38;5;28;01mfrom\u001b[39;00m\u001b[38;5;250m \u001b[39m\u001b[38;5;21;01mlangchain\u001b[39;00m\u001b[38;5;21;01m.\u001b[39;00m\u001b[38;5;21;01mschema\u001b[39;00m\u001b[38;5;250m \u001b[39m\u001b[38;5;28;01mimport\u001b[39;00m HumanMessage, SystemMessage\n\u001b[0;32m      4\u001b[0m llm_model \u001b[38;5;241m=\u001b[39m ChatGroq(\n\u001b[1;32m----> 5\u001b[0m     groq_api_key\u001b[38;5;241m=\u001b[39m\u001b[43mos\u001b[49m\u001b[38;5;241m.\u001b[39mgetenv(\u001b[38;5;124m\"\u001b[39m\u001b[38;5;124mGROQ_API_KEY\u001b[39m\u001b[38;5;124m\"\u001b[39m),\n\u001b[0;32m      6\u001b[0m     model_name\u001b[38;5;241m=\u001b[39m\u001b[38;5;124m\"\u001b[39m\u001b[38;5;124mllama3-70b-8192\u001b[39m\u001b[38;5;124m\"\u001b[39m\n\u001b[0;32m      7\u001b[0m )\n",
      "\u001b[1;31mNameError\u001b[0m: name 'os' is not defined"
     ]
    }
   ],
   "source": [
    "from langchain_groq import ChatGroq\n",
    "from langchain.schema import HumanMessage, SystemMessage\n",
    "\n",
    "llm_model = ChatGroq(\n",
    "    groq_api_key=os.getenv(\"GROQ_API_KEY\"),\n",
    "    model_name=\"llama3-70b-8192\"\n",
    ")"
   ]
  },
  {
   "cell_type": "code",
   "execution_count": 48,
   "id": "a64f6d15",
   "metadata": {},
   "outputs": [],
   "source": [
    "from langchain_community.document_loaders import TextLoader\n",
    "\n",
    "loader = TextLoader(\"./data/good.txt\")\n",
    "loaded_data = loader.load()\n"
   ]
  },
  {
   "cell_type": "code",
   "execution_count": 49,
   "id": "f7ffc7c7",
   "metadata": {},
   "outputs": [
    {
     "data": {
      "text/plain": [
       "[Document(metadata={'source': './data/good.txt'}, page_content='Hi I am a good girl.\\n\\njack and jill went up to hill\\n\\nhow are you')]"
      ]
     },
     "execution_count": 49,
     "metadata": {},
     "output_type": "execute_result"
    }
   ],
   "source": [
    "loaded_data"
   ]
  },
  {
   "cell_type": "markdown",
   "id": "5a60cc9b",
   "metadata": {},
   "source": [
    "## Character Splitter"
   ]
  },
  {
   "cell_type": "code",
   "execution_count": 50,
   "id": "b0baa957",
   "metadata": {},
   "outputs": [],
   "source": [
    "from langchain_text_splitters import CharacterTextSplitter"
   ]
  },
  {
   "cell_type": "code",
   "execution_count": 51,
   "id": "f10ab110",
   "metadata": {},
   "outputs": [],
   "source": [
    "text_splitter = CharacterTextSplitter(\n",
    "    separator=\"\\n\\n\",         # Use single newline if that's what your text uses\n",
    "    chunk_size=1000,\n",
    "    chunk_overlap=200,\n",
    "    length_function=len,\n",
    "    is_separator_regex=False\n",
    ")\n"
   ]
  },
  {
   "cell_type": "code",
   "execution_count": 56,
   "id": "41386de0",
   "metadata": {},
   "outputs": [],
   "source": [
    "texts = text_splitter.create_documents([loaded_data[0].page_content])\n"
   ]
  },
  {
   "cell_type": "code",
   "execution_count": 57,
   "id": "aef619e2",
   "metadata": {},
   "outputs": [
    {
     "name": "stdout",
     "output_type": "stream",
     "text": [
      "Chunk 1:\n",
      "Hi I am a good girl.\n",
      "\n",
      "jack and jill went up to hill\n",
      "\n",
      "how are you\n",
      "\n"
     ]
    }
   ],
   "source": [
    "# Print chunks\n",
    "for i, doc in enumerate(texts):\n",
    "    print(f\"Chunk {i+1}:\\n{doc.page_content}\\n\")"
   ]
  },
  {
   "cell_type": "code",
   "execution_count": 55,
   "id": "a59f53bc",
   "metadata": {},
   "outputs": [
    {
     "name": "stdout",
     "output_type": "stream",
     "text": [
      "'Hi I am a good girl.\\n\\njack and jill went up to hill\\n\\nhow are you'\n"
     ]
    }
   ],
   "source": [
    "print(repr(loaded_data[0].page_content[:1000]))\n"
   ]
  },
  {
   "cell_type": "code",
   "execution_count": 58,
   "id": "8b8dc881",
   "metadata": {},
   "outputs": [],
   "source": [
    "from langchain.text_splitter import RecursiveCharacterTextSplitter\n"
   ]
  },
  {
   "cell_type": "code",
   "execution_count": 59,
   "id": "adb60eca",
   "metadata": {},
   "outputs": [],
   "source": [
    "recursive_splitter = RecursiveCharacterTextSplitter(\n",
    "    chunk_size = 26,\n",
    "    chunk_overlap = 4\n",
    ")\n",
    "\n"
   ]
  },
  {
   "cell_type": "code",
   "execution_count": 60,
   "id": "f2581eda",
   "metadata": {},
   "outputs": [],
   "source": [
    "texts = recursive_splitter.create_documents([loaded_data[0].page_content])\n"
   ]
  },
  {
   "cell_type": "code",
   "execution_count": 61,
   "id": "31ea8d85",
   "metadata": {},
   "outputs": [
    {
     "name": "stdout",
     "output_type": "stream",
     "text": [
      "Chunk 1:\n",
      "Hi I am a good girl.\n",
      "\n",
      "Chunk 2:\n",
      "jack and jill went up to\n",
      "\n",
      "Chunk 3:\n",
      "to hill\n",
      "\n",
      "Chunk 4:\n",
      "how are you\n",
      "\n"
     ]
    }
   ],
   "source": [
    "# Print chunks\n",
    "for i, doc in enumerate(texts):\n",
    "    print(f\"Chunk {i+1}:\\n{doc.page_content}\\n\")"
   ]
  },
  {
   "cell_type": "code",
   "execution_count": null,
   "id": "94f8d451",
   "metadata": {},
   "outputs": [],
   "source": []
  },
  {
   "cell_type": "markdown",
   "id": "5a0765aa",
   "metadata": {},
   "source": [
    "## Embeddings"
   ]
  },
  {
   "cell_type": "code",
   "execution_count": 5,
   "id": "0d162055",
   "metadata": {},
   "outputs": [
    {
     "name": "stderr",
     "output_type": "stream",
     "text": [
      "C:\\Users\\msshe\\AppData\\Local\\Temp\\ipykernel_11536\\1724925280.py:3: LangChainDeprecationWarning: The class `HuggingFaceEmbeddings` was deprecated in LangChain 0.2.2 and will be removed in 1.0. An updated version of the class exists in the :class:`~langchain-huggingface package and should be used instead. To use it run `pip install -U :class:`~langchain-huggingface` and import as `from :class:`~langchain_huggingface import HuggingFaceEmbeddings``.\n",
      "  embedding = HuggingFaceEmbeddings(model_name=\"sentence-transformers/all-MiniLM-L6-v2\")\n",
      "c:\\Users\\msshe\\Documents\\Projects\\Demo-Langchain\\langchain\\lib\\site-packages\\tqdm\\auto.py:21: TqdmWarning: IProgress not found. Please update jupyter and ipywidgets. See https://ipywidgets.readthedocs.io/en/stable/user_install.html\n",
      "  from .autonotebook import tqdm as notebook_tqdm\n"
     ]
    }
   ],
   "source": [
    "from langchain.embeddings import HuggingFaceEmbeddings\n",
    "\n",
    "embedding = HuggingFaceEmbeddings(model_name=\"sentence-transformers/all-MiniLM-L6-v2\")\n"
   ]
  },
  {
   "cell_type": "code",
   "execution_count": 2,
   "id": "a70fa67a",
   "metadata": {},
   "outputs": [],
   "source": [
    "chunks_of_text = [\"Hi There!\", \"Hello!\", \"What's your name? \", \"Bond, James Bond\", \"Hello, Bond!\"]"
   ]
  },
  {
   "cell_type": "code",
   "execution_count": null,
   "id": "89d8b8f1",
   "metadata": {},
   "outputs": [],
   "source": [
    "\n",
    "embeddings = embedding.embed_documents(chunks_of_text)"
   ]
  },
  {
   "cell_type": "code",
   "execution_count": 12,
   "id": "86b1bea9",
   "metadata": {},
   "outputs": [
    {
     "data": {
      "text/plain": [
       "384"
      ]
     },
     "execution_count": 12,
     "metadata": {},
     "output_type": "execute_result"
    }
   ],
   "source": [
    "len(embeddings[4])"
   ]
  },
  {
   "cell_type": "markdown",
   "id": "aa8e14fc",
   "metadata": {},
   "source": [
    "## Vector Database\n",
    "\n",
    "### Chroma"
   ]
  },
  {
   "cell_type": "code",
   "execution_count": 13,
   "id": "48ad0118",
   "metadata": {},
   "outputs": [],
   "source": [
    "from langchain_community.document_loaders import TextLoader"
   ]
  },
  {
   "cell_type": "code",
   "execution_count": 47,
   "id": "4d420b5f",
   "metadata": {},
   "outputs": [],
   "source": [
    "from langchain_text_splitters import CharacterTextSplitter\n",
    "from langchain.vectorstores import Chroma\n"
   ]
  },
  {
   "cell_type": "code",
   "execution_count": 17,
   "id": "bdfe7b48",
   "metadata": {},
   "outputs": [],
   "source": [
    "import os\n",
    "from langchain_groq import ChatGroq\n",
    "\n",
    "llm_model = ChatGroq(\n",
    "    groq_api_key=os.getenv(\"GROQ_API_KEY\"),\n",
    "    model_name=\"llama3-70b-8192\"\n",
    ")"
   ]
  },
  {
   "cell_type": "code",
   "execution_count": 48,
   "id": "5256d7e8",
   "metadata": {},
   "outputs": [],
   "source": [
    "loaded_docs = TextLoader('./data/good.txt').load()"
   ]
  },
  {
   "cell_type": "code",
   "execution_count": 49,
   "id": "daea50c5",
   "metadata": {},
   "outputs": [],
   "source": [
    "splitter = CharacterTextSplitter(separator=\"\\n\", chunk_size=100, chunk_overlap = 10)"
   ]
  },
  {
   "cell_type": "code",
   "execution_count": 50,
   "id": "dbc7196f",
   "metadata": {},
   "outputs": [
    {
     "data": {
      "text/plain": [
       "6"
      ]
     },
     "execution_count": 50,
     "metadata": {},
     "output_type": "execute_result"
    }
   ],
   "source": [
    "chunks_of_text = splitter.split_documents(loaded_docs)\n",
    "len(chunks_of_text)"
   ]
  },
  {
   "cell_type": "code",
   "execution_count": 51,
   "id": "01ced8e2",
   "metadata": {},
   "outputs": [
    {
     "name": "stderr",
     "output_type": "stream",
     "text": [
      "C:\\Users\\msshe\\AppData\\Local\\Temp\\ipykernel_11536\\4279604074.py:6: LangChainDeprecationWarning: Since Chroma 0.4.x the manual persistence method is no longer supported as docs are automatically persisted.\n",
      "  vector_db.persist()  # Save the DB (optional but good practice)\n"
     ]
    }
   ],
   "source": [
    "vector_db = Chroma.from_documents(\n",
    "    chunks_of_text,\n",
    "    embedding,\n",
    "    persist_directory=\"chroma_db\"\n",
    ")\n",
    "vector_db.persist()  # Save the DB (optional but good practice)"
   ]
  },
  {
   "cell_type": "code",
   "execution_count": 71,
   "id": "40b6cee7",
   "metadata": {},
   "outputs": [],
   "source": [
    "question = \"Which city is good for beaches?\"\n",
    "results = vector_db.similarity_search_with_score(question, k=3)"
   ]
  },
  {
   "cell_type": "code",
   "execution_count": 72,
   "id": "0108fb62",
   "metadata": {},
   "outputs": [
    {
     "data": {
      "text/plain": [
       "[(Document(metadata={'source': './data/good.txt'}, page_content='Bali has stunning beaches, water temples, and peaceful yoga retreats.'),\n",
       "  1.0811179876327515),\n",
       " (Document(metadata={'source': './data/good.txt'}, page_content='Tokyo offers cherry blossoms, sushi, and river cruises blending tradition and modernity.'),\n",
       "  1.3551419973373413),\n",
       " (Document(metadata={'source': './data/good.txt'}, page_content='Paris is known for the Eiffel Tower and romantic boat cruises on the Seine River.'),\n",
       "  1.4880256652832031)]"
      ]
     },
     "execution_count": 72,
     "metadata": {},
     "output_type": "execute_result"
    }
   ],
   "source": [
    "results"
   ]
  },
  {
   "cell_type": "markdown",
   "id": "c44b1d43",
   "metadata": {},
   "source": [
    "### FAISS"
   ]
  },
  {
   "cell_type": "code",
   "execution_count": 2,
   "id": "bc318894",
   "metadata": {},
   "outputs": [],
   "source": [
    "from langchain_community.vectorstores import FAISS"
   ]
  },
  {
   "cell_type": "code",
   "execution_count": 3,
   "id": "90d4943a",
   "metadata": {},
   "outputs": [],
   "source": [
    "from langchain_text_splitters import CharacterTextSplitter\n"
   ]
  },
  {
   "cell_type": "code",
   "execution_count": 1,
   "id": "397beb7e",
   "metadata": {},
   "outputs": [],
   "source": [
    "from langchain_community.document_loaders import TextLoader\n",
    "\n",
    "loader = TextLoader(\"./data/good.txt\")\n",
    "loaded_data = loader.load()\n"
   ]
  },
  {
   "cell_type": "code",
   "execution_count": 22,
   "id": "a4b438ac",
   "metadata": {},
   "outputs": [
    {
     "name": "stdout",
     "output_type": "stream",
     "text": [
      "6\n"
     ]
    }
   ],
   "source": [
    "text_splitter =     CharacterTextSplitter(separator=\"\\n\", chunk_size = 100, chunk_overlap = 10)\n",
    "chunks_of_text = text_splitter.split_documents(loaded_data)\n",
    "print(len(chunks_of_text))"
   ]
  },
  {
   "cell_type": "code",
   "execution_count": 31,
   "id": "5e215367",
   "metadata": {},
   "outputs": [],
   "source": [
    "\n",
    "\n",
    "vector_db = FAISS.from_documents(\n",
    "    chunks_of_text,\n",
    "    embedding,\n",
    ")\n",
    "vector_db.save_local(\"faiss_db\")  # Save the DB (optional but good practice)"
   ]
  },
  {
   "cell_type": "code",
   "execution_count": 39,
   "id": "b53d556c",
   "metadata": {},
   "outputs": [],
   "source": [
    "retriever = vector_db.as_retriever(\n",
    "    search_type=\"similarity\",  # or \"mmr\"\n",
    "    search_kwargs={\n",
    "        \"k\": 1,\n",
    "        # for mmr\n",
    "        # \"lambda_mult\": 0.5,\n",
    "        # \"fetch_k\": 20,\n",
    "    }\n",
    "    \n",
    ")"
   ]
  },
  {
   "cell_type": "code",
   "execution_count": null,
   "id": "7aaead09",
   "metadata": {},
   "outputs": [],
   "source": []
  },
  {
   "cell_type": "code",
   "execution_count": 40,
   "id": "dfa4c9de",
   "metadata": {},
   "outputs": [],
   "source": [
    "response = retriever.invoke(\"which city has most delicious cuisine?\")"
   ]
  },
  {
   "cell_type": "code",
   "execution_count": 41,
   "id": "6e33fa19",
   "metadata": {},
   "outputs": [
    {
     "name": "stdout",
     "output_type": "stream",
     "text": [
      "[Document(id='51e8de39-454f-4f87-9761-9d230924ecd5', metadata={'source': './data/good.txt'}, page_content='Rome is famous for the Colosseum and authentic Italian cuisine.')]\n"
     ]
    }
   ],
   "source": [
    "print(response)"
   ]
  },
  {
   "cell_type": "code",
   "execution_count": null,
   "id": "99ac160e",
   "metadata": {},
   "outputs": [],
   "source": []
  },
  {
   "cell_type": "code",
   "execution_count": 57,
   "id": "211caa38",
   "metadata": {},
   "outputs": [],
   "source": [
    "texts = [\"AI is the future\", \"Cats are cute\", \"Generative Models create content\"]\n",
    "metadatas = [{\"category\": \"tech\"}, {\"category\" : \"pets\"}, {\"category\": \"tech\"}]"
   ]
  },
  {
   "cell_type": "code",
   "execution_count": 58,
   "id": "11fd2f4c",
   "metadata": {},
   "outputs": [],
   "source": [
    "\n",
    "vector_store = Chroma.from_texts(texts, embedding=embedding, metadatas=metadatas)"
   ]
  },
  {
   "cell_type": "code",
   "execution_count": 64,
   "id": "5af279d5",
   "metadata": {},
   "outputs": [],
   "source": [
    "retriever = vector_store.as_retriever(\n",
    "    search_kwargs = {\"k\":2,\n",
    "                     \"filter\": {\"category\":\"tech\"}\n",
    "                     }\n",
    ")"
   ]
  },
  {
   "cell_type": "code",
   "execution_count": 67,
   "id": "d0e38b63",
   "metadata": {},
   "outputs": [],
   "source": [
    "results = retriever.get_relevant_documents(\"tell me about models\")  "
   ]
  },
  {
   "cell_type": "code",
   "execution_count": 69,
   "id": "e859df6f",
   "metadata": {},
   "outputs": [
    {
     "name": "stdout",
     "output_type": "stream",
     "text": [
      "Content: Generative Models create content, Metadata: {'category': 'tech'}\n",
      "Content: Generative Models create content, Metadata: {'category': 'tech'}\n"
     ]
    }
   ],
   "source": [
    "for doc in results:\n",
    "    print(f\"Content: {doc.page_content}, Metadata: {doc.metadata}\")\n"
   ]
  },
  {
   "cell_type": "code",
   "execution_count": null,
   "id": "08b6046b",
   "metadata": {},
   "outputs": [],
   "source": []
  }
 ],
 "metadata": {
  "kernelspec": {
   "display_name": "langchain",
   "language": "python",
   "name": "python3"
  },
  "language_info": {
   "codemirror_mode": {
    "name": "ipython",
    "version": 3
   },
   "file_extension": ".py",
   "mimetype": "text/x-python",
   "name": "python",
   "nbconvert_exporter": "python",
   "pygments_lexer": "ipython3",
   "version": "3.10.11"
  }
 },
 "nbformat": 4,
 "nbformat_minor": 5
}
