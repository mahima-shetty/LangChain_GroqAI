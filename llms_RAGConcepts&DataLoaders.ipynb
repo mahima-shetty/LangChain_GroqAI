{
 "cells": [
  {
   "cell_type": "code",
   "execution_count": 5,
   "id": "eca9b65c",
   "metadata": {},
   "outputs": [],
   "source": [
    "import os\n",
    "from dotenv import load_dotenv, find_dotenv"
   ]
  },
  {
   "cell_type": "code",
   "execution_count": 6,
   "id": "58730949",
   "metadata": {},
   "outputs": [],
   "source": [
    "from langchain_groq import ChatGroq\n",
    "from langchain.schema import HumanMessage, SystemMessage\n",
    "\n",
    "llm_model = ChatGroq(\n",
    "    groq_api_key=os.getenv(\"GROQ_API_KEY\"),\n",
    "    model_name=\"llama3-70b-8192\"\n",
    ")"
   ]
  },
  {
   "cell_type": "code",
   "execution_count": 9,
   "id": "6a713bfe",
   "metadata": {},
   "outputs": [],
   "source": [
    "messages = [\n",
    "    SystemMessage(content=\"You are a helpful assistant.\"),\n",
    "    HumanMessage(content=\"Tell me about Gen AI.\")\n",
    "]"
   ]
  },
  {
   "cell_type": "code",
   "execution_count": 10,
   "id": "921447c4",
   "metadata": {},
   "outputs": [
    {
     "name": "stderr",
     "output_type": "stream",
     "text": [
      "C:\\Users\\msshe\\AppData\\Local\\Temp\\ipykernel_3752\\2761681729.py:1: LangChainDeprecationWarning: The method `BaseChatModel.__call__` was deprecated in langchain-core 0.1.7 and will be removed in 1.0. Use :meth:`~invoke` instead.\n",
      "  response = llm_model(messages)\n"
     ]
    },
    {
     "name": "stdout",
     "output_type": "stream",
     "text": [
      "Gen AI! That's a fascinating topic. Gen AI, short for General Artificial Intelligence, refers to a type of AI that possesses the ability to understand, reason, and learn across a wide range of tasks, similar to human intelligence.\n",
      "\n",
      "The key characteristics of Gen AI include:\n",
      "\n",
      "1. **Human-like intelligence**: Gen AI would be able to perform any intellectual task that a human can, such as problem-solving, learning, and applying knowledge across multiple domains.\n",
      "2. **Contextual understanding**: Gen AI would be able to understand nuances, subtleties, and ambiguities in language, much like humans do.\n",
      "3. **Reasoning and inference**: Gen AI would be able to draw logical conclusions, make decisions, and take actions based on available data and knowledge.\n",
      "4. **Autonomy and adaptability**: Gen AI would be able to operate independently, making decisions and adapting to new situations without human intervention.\n",
      "\n",
      "The potential benefits of Gen AI are enormous, including:\n",
      "\n",
      "1. **Automation of complex tasks**: Gen AI could revolutionize industries such as healthcare, finance, by automating complex decision-making processes.\n",
      "2. **Scientific breakthroughs**: Gen AI could accelerate scientific discoveries, helping us solve some of humanity's most pressing challenges, such as climate change.\n",
      "3. **Improved decision-making**: Gen AI could provide unbiased, data-driven insights to support critical decision-making across various domains.\n",
      "\n",
      "However, the development of Gen AI also raises important ethical concerns, such as:\n",
      "\n",
      "1. **Job displacement**: Gen AI could automate many jobs, leading to significant unemployment and social upheaval.\n",
      "2. **Bias and fairness**: Gen AI systems could perpetuate and biases present in the data used to train them, leading to unfair outcomes.\n",
      "3. **Safety and security**: Gen AI could pose significant risks if they are not designed with proper safeguards, potentially leading to unintended consequences.\n",
      "\n",
      "Researchers and developers are working to address these challenges, focusing on developing Gen AI that is transparent, explainable, and aligned with human values.\n",
      "\n",
      "While we've made significant progress in AI research, we're still far from achieving true Gen AI. However, the potential benefits make the pursuit of Gen AI an exciting and worthwhile endeavor.\n",
      "\n",
      "Do you have any questions about Gen AI or the challenges surrounding its creation?\n"
     ]
    }
   ],
   "source": [
    "response = llm_model(messages)\n",
    "print(response.content)"
   ]
  },
  {
   "cell_type": "code",
   "execution_count": null,
   "id": "590fbde7",
   "metadata": {},
   "outputs": [],
   "source": []
  },
  {
   "cell_type": "markdown",
   "id": "ca981969",
   "metadata": {},
   "source": [
    "## Text loaders"
   ]
  },
  {
   "cell_type": "markdown",
   "id": "655001b7",
   "metadata": {},
   "source": [
    "### CSV"
   ]
  },
  {
   "cell_type": "code",
   "execution_count": 13,
   "id": "72fad2fc",
   "metadata": {},
   "outputs": [],
   "source": [
    "from langchain_community.document_loaders import CSVLoader"
   ]
  },
  {
   "cell_type": "code",
   "execution_count": 12,
   "id": "fac1687f",
   "metadata": {},
   "outputs": [
    {
     "name": "stdout",
     "output_type": "stream",
     "text": [
      "Help on package langchain_community.document_loaders in langchain_community:\n",
      "\n",
      "NAME\n",
      "    langchain_community.document_loaders - **Document Loaders**  are classes to load Documents.\n",
      "\n",
      "DESCRIPTION\n",
      "    **Document Loaders** are usually used to load a lot of Documents in a single run.\n",
      "    \n",
      "    **Class hierarchy:**\n",
      "    \n",
      "    .. code-block::\n",
      "    \n",
      "        BaseLoader --> <name>Loader  # Examples: TextLoader, UnstructuredFileLoader\n",
      "    \n",
      "    **Main helpers:**\n",
      "    \n",
      "    .. code-block::\n",
      "    \n",
      "        Document, <name>TextSplitter\n",
      "\n",
      "PACKAGE CONTENTS\n",
      "    acreom\n",
      "    airbyte\n",
      "    airbyte_json\n",
      "    airtable\n",
      "    apify_dataset\n",
      "    arcgis_loader\n",
      "    arxiv\n",
      "    assemblyai\n",
      "    astradb\n",
      "    async_html\n",
      "    athena\n",
      "    azlyrics\n",
      "    azure_ai_data\n",
      "    azure_blob_storage_container\n",
      "    azure_blob_storage_file\n",
      "    baiducloud_bos_directory\n",
      "    baiducloud_bos_file\n",
      "    base\n",
      "    base_o365\n",
      "    bibtex\n",
      "    bigquery\n",
      "    bilibili\n",
      "    blackboard\n",
      "    blob_loaders (package)\n",
      "    blockchain\n",
      "    brave_search\n",
      "    browserbase\n",
      "    browserless\n",
      "    cassandra\n",
      "    chatgpt\n",
      "    chm\n",
      "    chromium\n",
      "    college_confidential\n",
      "    concurrent\n",
      "    confluence\n",
      "    conllu\n",
      "    couchbase\n",
      "    csv_loader\n",
      "    cube_semantic\n",
      "    datadog_logs\n",
      "    dataframe\n",
      "    dedoc\n",
      "    diffbot\n",
      "    directory\n",
      "    discord\n",
      "    doc_intelligence\n",
      "    docugami\n",
      "    docusaurus\n",
      "    dropbox\n",
      "    duckdb_loader\n",
      "    email\n",
      "    epub\n",
      "    etherscan\n",
      "    evernote\n",
      "    excel\n",
      "    facebook_chat\n",
      "    fauna\n",
      "    figma\n",
      "    firecrawl\n",
      "    gcs_directory\n",
      "    gcs_file\n",
      "    generic\n",
      "    geodataframe\n",
      "    git\n",
      "    gitbook\n",
      "    github\n",
      "    glue_catalog\n",
      "    google_speech_to_text\n",
      "    googledrive\n",
      "    gutenberg\n",
      "    helpers\n",
      "    hn\n",
      "    html\n",
      "    html_bs\n",
      "    hugging_face_dataset\n",
      "    hugging_face_model\n",
      "    ifixit\n",
      "    image\n",
      "    image_captions\n",
      "    imsdb\n",
      "    iugu\n",
      "    joplin\n",
      "    json_loader\n",
      "    kinetica_loader\n",
      "    lakefs\n",
      "    larksuite\n",
      "    llmsherpa\n",
      "    markdown\n",
      "    mastodon\n",
      "    max_compute\n",
      "    mediawikidump\n",
      "    merge\n",
      "    mhtml\n",
      "    mintbase\n",
      "    modern_treasury\n",
      "    mongodb\n",
      "    needle\n",
      "    news\n",
      "    notebook\n",
      "    notion\n",
      "    notiondb\n",
      "    nuclia\n",
      "    obs_directory\n",
      "    obs_file\n",
      "    obsidian\n",
      "    odt\n",
      "    onedrive\n",
      "    onedrive_file\n",
      "    onenote\n",
      "    open_city_data\n",
      "    oracleadb_loader\n",
      "    oracleai\n",
      "    org_mode\n",
      "    parsers (package)\n",
      "    pdf\n",
      "    pebblo\n",
      "    polars_dataframe\n",
      "    powerpoint\n",
      "    psychic\n",
      "    pubmed\n",
      "    pyspark_dataframe\n",
      "    python\n",
      "    quip\n",
      "    readthedocs\n",
      "    recursive_url_loader\n",
      "    reddit\n",
      "    roam\n",
      "    rocksetdb\n",
      "    rspace\n",
      "    rss\n",
      "    rst\n",
      "    rtf\n",
      "    s3_directory\n",
      "    s3_file\n",
      "    scrapfly\n",
      "    scrapingant\n",
      "    sharepoint\n",
      "    sitemap\n",
      "    slack_directory\n",
      "    snowflake_loader\n",
      "    spider\n",
      "    spreedly\n",
      "    sql_database\n",
      "    srt\n",
      "    stripe\n",
      "    surrealdb\n",
      "    telegram\n",
      "    tencent_cos_directory\n",
      "    tencent_cos_file\n",
      "    tensorflow_datasets\n",
      "    text\n",
      "    tidb\n",
      "    tomarkdown\n",
      "    toml\n",
      "    trello\n",
      "    tsv\n",
      "    twitter\n",
      "    unstructured\n",
      "    url\n",
      "    url_playwright\n",
      "    url_selenium\n",
      "    vsdx\n",
      "    weather\n",
      "    web_base\n",
      "    whatsapp_chat\n",
      "    wikipedia\n",
      "    word_document\n",
      "    xml\n",
      "    xorbits\n",
      "    youtube\n",
      "    yuque\n",
      "\n",
      "FUNCTIONS\n",
      "    __getattr__(name: str) -> Any\n",
      "\n",
      "DATA\n",
      "    __all__ = ['AZLyricsLoader', 'AcreomLoader', 'AirbyteCDKLoader', 'Airb...\n",
      "\n",
      "FILE\n",
      "    c:\\users\\msshe\\documents\\projects\\demo-langchain\\langchain\\lib\\site-packages\\langchain_community\\document_loaders\\__init__.py\n",
      "\n",
      "\n"
     ]
    }
   ],
   "source": [
    "import langchain_community.document_loaders\n",
    "help(langchain_community.document_loaders)"
   ]
  },
  {
   "cell_type": "code",
   "execution_count": 14,
   "id": "5fd06412",
   "metadata": {},
   "outputs": [],
   "source": [
    "from langchain_community.document_loaders import CSVLoader"
   ]
  },
  {
   "cell_type": "code",
   "execution_count": 15,
   "id": "857ed543",
   "metadata": {},
   "outputs": [],
   "source": [
    "loader = CSVLoader('./data/good.csv')\n",
    "laoded_Data = loader.load()"
   ]
  },
  {
   "cell_type": "code",
   "execution_count": 16,
   "id": "4abf2d50",
   "metadata": {},
   "outputs": [
    {
     "data": {
      "text/plain": [
       "[Document(metadata={'source': './data/good.csv', 'row': 0}, page_content='id: 1\\nname: Wireless Mouse\\ncategory: Electronics\\nprice: 29.99\\ndescription: Ergonomic wireless mouse with 2.4GHz connectivity'),\n",
       " Document(metadata={'source': './data/good.csv', 'row': 1}, page_content='id: 2\\nname: Running Shoes\\ncategory: Sportswear\\nprice: 69.95\\ndescription: Breathable mesh shoes for long-distance running')]"
      ]
     },
     "execution_count": 16,
     "metadata": {},
     "output_type": "execute_result"
    }
   ],
   "source": [
    "laoded_Data"
   ]
  },
  {
   "cell_type": "code",
   "execution_count": null,
   "id": "a39ae642",
   "metadata": {},
   "outputs": [],
   "source": []
  },
  {
   "cell_type": "markdown",
   "id": "2c88b4b2",
   "metadata": {},
   "source": [
    "### html"
   ]
  },
  {
   "cell_type": "code",
   "execution_count": null,
   "id": "f50ef0a2",
   "metadata": {},
   "outputs": [],
   "source": [
    "from langchain_community.document_loaders import UnstructuredHTMLLoader\n",
    "\n"
   ]
  },
  {
   "cell_type": "code",
   "execution_count": 21,
   "id": "4fb3410c",
   "metadata": {},
   "outputs": [],
   "source": [
    "loader = UnstructuredHTMLLoader('./data/good.html')\n",
    "loaded_Data = loader.load()"
   ]
  },
  {
   "cell_type": "code",
   "execution_count": 24,
   "id": "a28ee282",
   "metadata": {},
   "outputs": [
    {
     "name": "stdout",
     "output_type": "stream",
     "text": [
      "[Document(metadata={'source': './data/good.html'}, page_content='Hello, World!')]\n"
     ]
    }
   ],
   "source": [
    "print(loaded_Data)"
   ]
  },
  {
   "cell_type": "markdown",
   "id": "ae43aa3a",
   "metadata": {},
   "source": [
    "### pdf"
   ]
  },
  {
   "cell_type": "code",
   "execution_count": 25,
   "id": "bbd600d6",
   "metadata": {},
   "outputs": [],
   "source": [
    "from langchain_community.document_loaders import PyPDFLoader\n",
    "\n",
    "loader = PyPDFLoader('./data/good.pdf')"
   ]
  },
  {
   "cell_type": "code",
   "execution_count": 30,
   "id": "2c9377c8",
   "metadata": {},
   "outputs": [
    {
     "name": "stderr",
     "output_type": "stream",
     "text": [
      "invalid pdf header: b'Title'\n",
      "EOF marker not found\n"
     ]
    },
    {
     "ename": "PdfStreamError",
     "evalue": "Stream has ended unexpectedly",
     "output_type": "error",
     "traceback": [
      "\u001b[1;31m---------------------------------------------------------------------------\u001b[0m",
      "\u001b[1;31mPdfStreamError\u001b[0m                            Traceback (most recent call last)",
      "Cell \u001b[1;32mIn[30], line 1\u001b[0m\n\u001b[1;32m----> 1\u001b[0m docs \u001b[38;5;241m=\u001b[39m \u001b[43mloader\u001b[49m\u001b[38;5;241;43m.\u001b[39;49m\u001b[43mload\u001b[49m\u001b[43m(\u001b[49m\u001b[43m)\u001b[49m\n",
      "File \u001b[1;32mc:\\Users\\msshe\\Documents\\Projects\\Demo-Langchain\\langchain\\lib\\site-packages\\langchain_core\\document_loaders\\base.py:32\u001b[0m, in \u001b[0;36mBaseLoader.load\u001b[1;34m(self)\u001b[0m\n\u001b[0;32m     30\u001b[0m \u001b[38;5;28;01mdef\u001b[39;00m\u001b[38;5;250m \u001b[39m\u001b[38;5;21mload\u001b[39m(\u001b[38;5;28mself\u001b[39m) \u001b[38;5;241m-\u001b[39m\u001b[38;5;241m>\u001b[39m \u001b[38;5;28mlist\u001b[39m[Document]:\n\u001b[0;32m     31\u001b[0m \u001b[38;5;250m    \u001b[39m\u001b[38;5;124;03m\"\"\"Load data into Document objects.\"\"\"\u001b[39;00m\n\u001b[1;32m---> 32\u001b[0m     \u001b[38;5;28;01mreturn\u001b[39;00m \u001b[38;5;28;43mlist\u001b[39;49m\u001b[43m(\u001b[49m\u001b[38;5;28;43mself\u001b[39;49m\u001b[38;5;241;43m.\u001b[39;49m\u001b[43mlazy_load\u001b[49m\u001b[43m(\u001b[49m\u001b[43m)\u001b[49m\u001b[43m)\u001b[49m\n",
      "File \u001b[1;32mc:\\Users\\msshe\\Documents\\Projects\\Demo-Langchain\\langchain\\lib\\site-packages\\langchain_community\\document_loaders\\pdf.py:305\u001b[0m, in \u001b[0;36mPyPDFLoader.lazy_load\u001b[1;34m(self)\u001b[0m\n\u001b[0;32m    303\u001b[0m \u001b[38;5;28;01melse\u001b[39;00m:\n\u001b[0;32m    304\u001b[0m     blob \u001b[38;5;241m=\u001b[39m Blob\u001b[38;5;241m.\u001b[39mfrom_path(\u001b[38;5;28mself\u001b[39m\u001b[38;5;241m.\u001b[39mfile_path)\n\u001b[1;32m--> 305\u001b[0m \u001b[38;5;28;01myield from\u001b[39;00m \u001b[38;5;28mself\u001b[39m\u001b[38;5;241m.\u001b[39mparser\u001b[38;5;241m.\u001b[39mlazy_parse(blob)\n",
      "File \u001b[1;32mc:\\Users\\msshe\\Documents\\Projects\\Demo-Langchain\\langchain\\lib\\site-packages\\langchain_community\\document_loaders\\parsers\\pdf.py:384\u001b[0m, in \u001b[0;36mPyPDFParser.lazy_parse\u001b[1;34m(self, blob)\u001b[0m\n\u001b[0;32m    378\u001b[0m         \u001b[38;5;28;01mreturn\u001b[39;00m page\u001b[38;5;241m.\u001b[39mextract_text(\n\u001b[0;32m    379\u001b[0m             extraction_mode\u001b[38;5;241m=\u001b[39m\u001b[38;5;28mself\u001b[39m\u001b[38;5;241m.\u001b[39mextraction_mode,\n\u001b[0;32m    380\u001b[0m             \u001b[38;5;241m*\u001b[39m\u001b[38;5;241m*\u001b[39m\u001b[38;5;28mself\u001b[39m\u001b[38;5;241m.\u001b[39mextraction_kwargs,\n\u001b[0;32m    381\u001b[0m         )\n\u001b[0;32m    383\u001b[0m \u001b[38;5;28;01mwith\u001b[39;00m blob\u001b[38;5;241m.\u001b[39mas_bytes_io() \u001b[38;5;28;01mas\u001b[39;00m pdf_file_obj:\n\u001b[1;32m--> 384\u001b[0m     pdf_reader \u001b[38;5;241m=\u001b[39m \u001b[43mpypdf\u001b[49m\u001b[38;5;241;43m.\u001b[39;49m\u001b[43mPdfReader\u001b[49m\u001b[43m(\u001b[49m\u001b[43mpdf_file_obj\u001b[49m\u001b[43m,\u001b[49m\u001b[43m \u001b[49m\u001b[43mpassword\u001b[49m\u001b[38;5;241;43m=\u001b[39;49m\u001b[38;5;28;43mself\u001b[39;49m\u001b[38;5;241;43m.\u001b[39;49m\u001b[43mpassword\u001b[49m\u001b[43m)\u001b[49m\n\u001b[0;32m    386\u001b[0m     doc_metadata \u001b[38;5;241m=\u001b[39m _purge_metadata(\n\u001b[0;32m    387\u001b[0m         {\u001b[38;5;124m\"\u001b[39m\u001b[38;5;124mproducer\u001b[39m\u001b[38;5;124m\"\u001b[39m: \u001b[38;5;124m\"\u001b[39m\u001b[38;5;124mPyPDF\u001b[39m\u001b[38;5;124m\"\u001b[39m, \u001b[38;5;124m\"\u001b[39m\u001b[38;5;124mcreator\u001b[39m\u001b[38;5;124m\"\u001b[39m: \u001b[38;5;124m\"\u001b[39m\u001b[38;5;124mPyPDF\u001b[39m\u001b[38;5;124m\"\u001b[39m, \u001b[38;5;124m\"\u001b[39m\u001b[38;5;124mcreationdate\u001b[39m\u001b[38;5;124m\"\u001b[39m: \u001b[38;5;124m\"\u001b[39m\u001b[38;5;124m\"\u001b[39m}\n\u001b[0;32m    388\u001b[0m         \u001b[38;5;241m|\u001b[39m cast(\u001b[38;5;28mdict\u001b[39m, pdf_reader\u001b[38;5;241m.\u001b[39mmetadata \u001b[38;5;129;01mor\u001b[39;00m {})\n\u001b[1;32m   (...)\u001b[0m\n\u001b[0;32m    392\u001b[0m         }\n\u001b[0;32m    393\u001b[0m     )\n\u001b[0;32m    394\u001b[0m     single_texts \u001b[38;5;241m=\u001b[39m []\n",
      "File \u001b[1;32mc:\\Users\\msshe\\Documents\\Projects\\Demo-Langchain\\langchain\\lib\\site-packages\\pypdf\\_reader.py:136\u001b[0m, in \u001b[0;36mPdfReader.__init__\u001b[1;34m(self, stream, strict, password)\u001b[0m\n\u001b[0;32m    132\u001b[0m \u001b[38;5;28mself\u001b[39m\u001b[38;5;241m.\u001b[39m_page_id2num: Optional[Dict[Any, Any]] \u001b[38;5;241m=\u001b[39m \u001b[38;5;28;01mNone\u001b[39;00m\n\u001b[0;32m    134\u001b[0m \u001b[38;5;28mself\u001b[39m\u001b[38;5;241m.\u001b[39m_validated_root: Optional[DictionaryObject] \u001b[38;5;241m=\u001b[39m \u001b[38;5;28;01mNone\u001b[39;00m\n\u001b[1;32m--> 136\u001b[0m \u001b[38;5;28;43mself\u001b[39;49m\u001b[38;5;241;43m.\u001b[39;49m\u001b[43m_initialize_stream\u001b[49m\u001b[43m(\u001b[49m\u001b[43mstream\u001b[49m\u001b[43m)\u001b[49m\n\u001b[0;32m    137\u001b[0m \u001b[38;5;28mself\u001b[39m\u001b[38;5;241m.\u001b[39m_known_objects: Set[Tuple[\u001b[38;5;28mint\u001b[39m, \u001b[38;5;28mint\u001b[39m]] \u001b[38;5;241m=\u001b[39m \u001b[38;5;28mset\u001b[39m()\n\u001b[0;32m    139\u001b[0m \u001b[38;5;28mself\u001b[39m\u001b[38;5;241m.\u001b[39m_override_encryption \u001b[38;5;241m=\u001b[39m \u001b[38;5;28;01mFalse\u001b[39;00m\n",
      "File \u001b[1;32mc:\\Users\\msshe\\Documents\\Projects\\Demo-Langchain\\langchain\\lib\\site-packages\\pypdf\\_reader.py:158\u001b[0m, in \u001b[0;36mPdfReader._initialize_stream\u001b[1;34m(self, stream)\u001b[0m\n\u001b[0;32m    156\u001b[0m         stream \u001b[38;5;241m=\u001b[39m BytesIO(fh\u001b[38;5;241m.\u001b[39mread())\n\u001b[0;32m    157\u001b[0m     \u001b[38;5;28mself\u001b[39m\u001b[38;5;241m.\u001b[39m_stream_opened \u001b[38;5;241m=\u001b[39m \u001b[38;5;28;01mTrue\u001b[39;00m\n\u001b[1;32m--> 158\u001b[0m \u001b[38;5;28;43mself\u001b[39;49m\u001b[38;5;241;43m.\u001b[39;49m\u001b[43mread\u001b[49m\u001b[43m(\u001b[49m\u001b[43mstream\u001b[49m\u001b[43m)\u001b[49m\n\u001b[0;32m    159\u001b[0m \u001b[38;5;28mself\u001b[39m\u001b[38;5;241m.\u001b[39mstream \u001b[38;5;241m=\u001b[39m stream\n",
      "File \u001b[1;32mc:\\Users\\msshe\\Documents\\Projects\\Demo-Langchain\\langchain\\lib\\site-packages\\pypdf\\_reader.py:597\u001b[0m, in \u001b[0;36mPdfReader.read\u001b[1;34m(self, stream)\u001b[0m\n\u001b[0;32m    589\u001b[0m \u001b[38;5;250m\u001b[39m\u001b[38;5;124;03m\"\"\"\u001b[39;00m\n\u001b[0;32m    590\u001b[0m \u001b[38;5;124;03mRead and process the PDF stream, extracting necessary data.\u001b[39;00m\n\u001b[0;32m    591\u001b[0m \n\u001b[1;32m   (...)\u001b[0m\n\u001b[0;32m    594\u001b[0m \n\u001b[0;32m    595\u001b[0m \u001b[38;5;124;03m\"\"\"\u001b[39;00m\n\u001b[0;32m    596\u001b[0m \u001b[38;5;28mself\u001b[39m\u001b[38;5;241m.\u001b[39m_basic_validation(stream)\n\u001b[1;32m--> 597\u001b[0m \u001b[38;5;28;43mself\u001b[39;49m\u001b[38;5;241;43m.\u001b[39;49m\u001b[43m_find_eof_marker\u001b[49m\u001b[43m(\u001b[49m\u001b[43mstream\u001b[49m\u001b[43m)\u001b[49m\n\u001b[0;32m    598\u001b[0m startxref \u001b[38;5;241m=\u001b[39m \u001b[38;5;28mself\u001b[39m\u001b[38;5;241m.\u001b[39m_find_startxref_pos(stream)\n\u001b[0;32m    599\u001b[0m \u001b[38;5;28mself\u001b[39m\u001b[38;5;241m.\u001b[39m_startxref \u001b[38;5;241m=\u001b[39m startxref\n",
      "File \u001b[1;32mc:\\Users\\msshe\\Documents\\Projects\\Demo-Langchain\\langchain\\lib\\site-packages\\pypdf\\_reader.py:703\u001b[0m, in \u001b[0;36mPdfReader._find_eof_marker\u001b[1;34m(self, stream)\u001b[0m\n\u001b[0;32m    701\u001b[0m         \u001b[38;5;28;01mraise\u001b[39;00m PdfReadError(\u001b[38;5;124m\"\u001b[39m\u001b[38;5;124mEOF marker not found\u001b[39m\u001b[38;5;124m\"\u001b[39m)\n\u001b[0;32m    702\u001b[0m     logger_warning(\u001b[38;5;124m\"\u001b[39m\u001b[38;5;124mEOF marker not found\u001b[39m\u001b[38;5;124m\"\u001b[39m, \u001b[38;5;18m__name__\u001b[39m)\n\u001b[1;32m--> 703\u001b[0m line \u001b[38;5;241m=\u001b[39m \u001b[43mread_previous_line\u001b[49m\u001b[43m(\u001b[49m\u001b[43mstream\u001b[49m\u001b[43m)\u001b[49m\n",
      "File \u001b[1;32mc:\\Users\\msshe\\Documents\\Projects\\Demo-Langchain\\langchain\\lib\\site-packages\\pypdf\\_utils.py:294\u001b[0m, in \u001b[0;36mread_previous_line\u001b[1;34m(stream)\u001b[0m\n\u001b[0;32m    292\u001b[0m found_crlf \u001b[38;5;241m=\u001b[39m \u001b[38;5;28;01mFalse\u001b[39;00m\n\u001b[0;32m    293\u001b[0m \u001b[38;5;28;01mif\u001b[39;00m stream\u001b[38;5;241m.\u001b[39mtell() \u001b[38;5;241m==\u001b[39m \u001b[38;5;241m0\u001b[39m:\n\u001b[1;32m--> 294\u001b[0m     \u001b[38;5;28;01mraise\u001b[39;00m PdfStreamError(STREAM_TRUNCATED_PREMATURELY)\n\u001b[0;32m    295\u001b[0m \u001b[38;5;28;01mwhile\u001b[39;00m \u001b[38;5;28;01mTrue\u001b[39;00m:\n\u001b[0;32m    296\u001b[0m     to_read \u001b[38;5;241m=\u001b[39m \u001b[38;5;28mmin\u001b[39m(DEFAULT_BUFFER_SIZE, stream\u001b[38;5;241m.\u001b[39mtell())\n",
      "\u001b[1;31mPdfStreamError\u001b[0m: Stream has ended unexpectedly"
     ]
    }
   ],
   "source": [
    "docs = loader.load()"
   ]
  },
  {
   "cell_type": "markdown",
   "id": "23f4ad8a",
   "metadata": {},
   "source": [
    "### wikipedia"
   ]
  },
  {
   "cell_type": "code",
   "execution_count": 31,
   "id": "c847b45f",
   "metadata": {},
   "outputs": [],
   "source": [
    "from langchain_community.document_loaders import WikipediaLoader"
   ]
  },
  {
   "cell_type": "code",
   "execution_count": 34,
   "id": "d0eb9677",
   "metadata": {},
   "outputs": [],
   "source": [
    "loader = WikipediaLoader(query=\"Tesla\", load_max_docs=1)\n",
    "loaded_data = loader.load()"
   ]
  },
  {
   "cell_type": "code",
   "execution_count": 38,
   "id": "17a4d3e0",
   "metadata": {},
   "outputs": [
    {
     "data": {
      "text/plain": [
       "'Tesla, Inc. ( TEZ-lə or   TESS-lə) is an American multinational automotive and clean energy company. Headquartered in Austin, Texas, it designs, manufactures and sells battery electric vehicles (BEVs), stationary battery energy storage devices from home to grid-scale, solar panels and solar shingles, and related products and services.\\nTesla was incorporated in July 2003 by Martin Eberhard and Marc Tarpenning as Tesla Motors. Its name is a tribute to inventor and electrical engineer Nikola Tesla. In February 2004, Elon Musk led Tesla\\'s first funding round and became the company\\'s chairman; in 2008, he was named chief executive officer. In 2008, the company began production of its first car model, the Roadster sports car, followed by the Model S sedan in 2012, the Model X SUV in 2015, the Model 3 sedan in 2017, the Model Y crossover in 2020, the Tesla Semi truck in 2022 and the Cybertruck pickup truck in 2023.\\nTesla is one of the world\\'s most valuable companies in terms of market capitalization. Starting in July 2020, it has been the world\\'s most valuable automaker. From October 2021 to March 2022, Tesla was a trillion-dollar company, the seventh U.S. company to reach that valuation. Tesla exceeded $1 trillion in market capitalization again between November 2024 and February 2025. In 2023, the company led the battery electric vehicle market, with 19.9% share. Also in 2023, the company was ranked 69th in the Forbes Global 2000.\\nTesla has been the subject of lawsuits, boycotts, government scrutiny, and journalistic criticism, stemming from allegations of multiple cases of whistleblower retaliation, worker rights violations such as sexual harassment and anti-union activities, safety defects leading to dozens of recalls, the lack of a public relations department, and controversial statements from Musk including overpromising on the company\\'s driving assist technology and product release timelines. Opponents of Musk have launched the \"Tesla Takedown\" campaign in response to the views of Musk and his role in the second Trump presidency.\\n\\n\\n== History ==\\n\\n\\n=== Founding (2003–2004) ===\\nThe company was incorporated as Tesla Motors, Inc. on July 1, 2003, by Martin Eberhard and Marc Tarpenning. They served as chief executive officer and chief financial officer, respectively. Eberhard said that he wanted to build \"a car manufacturer that is also a technology company\", with its core technologies as \"the battery, the computer software, and the proprietary motor\".\\nIan Wright joined Eberhard and Tarpenning a few months later. In February 2004, the company raised US$7.5 million (equivalent to $12.5 million in 2024) in series A funding, including $6.5 million (equivalent to $10.8 million in 2024) from Elon Musk, who had received $100 million from the sale of his interest in PayPal two years earlier. Musk became the chairman of the board of directors and the largest shareholder of Tesla. J. B. Straubel joined Tesla in May 2004 as chief technical officer.\\nA lawsuit settlement agreed to by Eberhard and Tesla in September 2009 allows all five – Eberhard, Tarpenning, Wright, Musk, and Straubel – to call themselves co-founders.\\n\\n\\n=== Roadster (2005–2009) ===\\n\\nElon Musk took an active role within the company, but was not deeply involved in day-to-day business operations. The company\\'s strategy was to start with a premium sports car aimed at early adopters and then move into more mainstream vehicles, including sedans and affordable compacts.\\nIn February 2006, Musk led Tesla\\'s Series B venture capital funding round of $13 million, which added Valor Equity Partners to the funding team. Musk co-led the third, $40 million round in May 2006 which saw investment from prominent entrepreneurs including Google co-founders Sergey Brin and Larry Page, and former eBay president Jeff Skoll. A fourth round worth $45 million in May 2007 brought the total private financing investment to over $105 million.\\nIn August 2007, Eberhard was asked by the board, led by Elon Musk,'"
      ]
     },
     "execution_count": 38,
     "metadata": {},
     "output_type": "execute_result"
    }
   ],
   "source": [
    "loaded_data[0].page_content"
   ]
  },
  {
   "cell_type": "code",
   "execution_count": null,
   "id": "358977eb",
   "metadata": {},
   "outputs": [],
   "source": []
  }
 ],
 "metadata": {
  "kernelspec": {
   "display_name": "langchain",
   "language": "python",
   "name": "python3"
  },
  "language_info": {
   "codemirror_mode": {
    "name": "ipython",
    "version": 3
   },
   "file_extension": ".py",
   "mimetype": "text/x-python",
   "name": "python",
   "nbconvert_exporter": "python",
   "pygments_lexer": "ipython3",
   "version": "3.10.11"
  }
 },
 "nbformat": 4,
 "nbformat_minor": 5
}
