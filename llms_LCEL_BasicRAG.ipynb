{
 "cells": [
  {
   "cell_type": "markdown",
   "id": "1550e0e6",
   "metadata": {},
   "source": [
    "## Basic RAG implementation with LCEL"
   ]
  },
  {
   "cell_type": "markdown",
   "id": "0df9b955",
   "metadata": {},
   "source": [
    "1. Runnable"
   ]
  },
  {
   "cell_type": "code",
   "execution_count": 1,
   "id": "6a52c104",
   "metadata": {},
   "outputs": [
    {
     "name": "stdout",
     "output_type": "stream",
     "text": [
      "4\n"
     ]
    }
   ],
   "source": [
    "from langchain_core.runnables import RunnableLambda\n",
    "\n",
    "def add_one(x: int) -> int:\n",
    "    return x + 1\n",
    "\n",
    "runnable = RunnableLambda(add_one)\n",
    "\n",
    "print(runnable.invoke(3))  # Output should be?\n"
   ]
  },
  {
   "cell_type": "markdown",
   "id": "b875d5f6",
   "metadata": {},
   "source": [
    "2. RunnablePassThrough"
   ]
  },
  {
   "cell_type": "code",
   "execution_count": 2,
   "id": "09aec415",
   "metadata": {},
   "outputs": [
    {
     "name": "stdout",
     "output_type": "stream",
     "text": [
      "hello!\n"
     ]
    }
   ],
   "source": [
    "from langchain_core.runnables import RunnablePassthrough\n",
    "\n",
    "passthrough = RunnablePassthrough()\n",
    "print(passthrough.invoke(\"hello!\"))\n"
   ]
  },
  {
   "cell_type": "markdown",
   "id": "8f3cf226",
   "metadata": {},
   "source": [
    "3. RunnableParallel"
   ]
  },
  {
   "cell_type": "code",
   "execution_count": 3,
   "id": "463b7f87",
   "metadata": {},
   "outputs": [
    {
     "name": "stdout",
     "output_type": "stream",
     "text": [
      "4 and 9\n"
     ]
    }
   ],
   "source": [
    "from langchain_core.runnables import RunnableLambda\n",
    "\n",
    "add_one = RunnableLambda(lambda x: x + 1)\n",
    "square = RunnableLambda(lambda x: x * x)\n",
    "\n",
    "parallel = {\n",
    "    \"plus_one\": add_one,\n",
    "    \"squared\": square\n",
    "}\n",
    "\n",
    "result = parallel | RunnableLambda(lambda d: f\"{d['plus_one']} and {d['squared']}\")\n",
    "print(result.invoke(3))\n"
   ]
  },
  {
   "cell_type": "code",
   "execution_count": 5,
   "id": "519af787",
   "metadata": {},
   "outputs": [
    {
     "name": "stdout",
     "output_type": "stream",
     "text": [
      "13\n"
     ]
    }
   ],
   "source": [
    "from langchain_core.runnables import RunnableLambda\n",
    "\n",
    "add_one = RunnableLambda(lambda x: x + 1)\n",
    "square = RunnableLambda(lambda x: x * x)\n",
    "\n",
    "parallel = {\n",
    "    \"plus_one\": add_one,\n",
    "    \"squared\": square\n",
    "}\n",
    "\n",
    "result = parallel | RunnableLambda(lambda d: d['plus_one'] + d['squared'] )\n",
    "print(result.invoke(3))\n"
   ]
  },
  {
   "cell_type": "code",
   "execution_count": null,
   "id": "c63993e0",
   "metadata": {},
   "outputs": [],
   "source": []
  }
 ],
 "metadata": {
  "kernelspec": {
   "display_name": "langchain",
   "language": "python",
   "name": "python3"
  },
  "language_info": {
   "codemirror_mode": {
    "name": "ipython",
    "version": 3
   },
   "file_extension": ".py",
   "mimetype": "text/x-python",
   "name": "python",
   "nbconvert_exporter": "python",
   "pygments_lexer": "ipython3",
   "version": "3.10.11"
  }
 },
 "nbformat": 4,
 "nbformat_minor": 5
}
