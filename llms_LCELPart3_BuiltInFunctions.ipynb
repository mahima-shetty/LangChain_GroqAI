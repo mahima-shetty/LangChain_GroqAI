{
 "cells": [
  {
   "cell_type": "markdown",
   "id": "75eef35c",
   "metadata": {},
   "source": [
    "Binding"
   ]
  },
  {
   "cell_type": "code",
   "execution_count": 2,
   "id": "d46684ea",
   "metadata": {},
   "outputs": [],
   "source": [
    "from langchain_community.embeddings import HuggingFaceEmbeddings\n",
    "from langchain_community.vectorstores import FAISS\n",
    "from langchain.schema import Document"
   ]
  },
  {
   "cell_type": "code",
   "execution_count": 2,
   "id": "631f4d04",
   "metadata": {},
   "outputs": [
    {
     "name": "stderr",
     "output_type": "stream",
     "text": [
      "C:\\Users\\msshe\\AppData\\Local\\Temp\\ipykernel_25904\\2127729888.py:1: LangChainDeprecationWarning: The class `HuggingFaceEmbeddings` was deprecated in LangChain 0.2.2 and will be removed in 1.0. An updated version of the class exists in the :class:`~langchain-huggingface package and should be used instead. To use it run `pip install -U :class:`~langchain-huggingface` and import as `from :class:`~langchain_huggingface import HuggingFaceEmbeddings``.\n",
      "  embedding_model = HuggingFaceEmbeddings(\n",
      "c:\\Users\\msshe\\Documents\\Projects\\Demo-Langchain\\langchain\\lib\\site-packages\\tqdm\\auto.py:21: TqdmWarning: IProgress not found. Please update jupyter and ipywidgets. See https://ipywidgets.readthedocs.io/en/stable/user_install.html\n",
      "  from .autonotebook import tqdm as notebook_tqdm\n"
     ]
    }
   ],
   "source": [
    "embedding_model = HuggingFaceEmbeddings(\n",
    "    model_name=\"sentence-transformers/all-MiniLM-L6-v2\"\n",
    ")"
   ]
  },
  {
   "cell_type": "markdown",
   "id": "fb720a4e",
   "metadata": {},
   "source": []
  },
  {
   "cell_type": "code",
   "execution_count": 3,
   "id": "efb2a0c9",
   "metadata": {},
   "outputs": [],
   "source": [
    "texts = [\n",
    "    \"Bangalore is a major tech hub in India.\",\n",
    "    \"Paris is famous for the Eiffel Tower.\",\n",
    "    \"The Amazon rainforest is vital for the planet.\"\n",
    "]"
   ]
  },
  {
   "cell_type": "code",
   "execution_count": 4,
   "id": "3849501a",
   "metadata": {},
   "outputs": [],
   "source": [
    "docs = [Document(page_content=txt) for txt in texts]"
   ]
  },
  {
   "cell_type": "code",
   "execution_count": 5,
   "id": "08cc44d6",
   "metadata": {},
   "outputs": [],
   "source": [
    "vectorstore = FAISS.from_documents(docs, embedding_model)"
   ]
  },
  {
   "cell_type": "code",
   "execution_count": 6,
   "id": "6464dbd9",
   "metadata": {},
   "outputs": [],
   "source": [
    "query = \"Which city has the Eiffel Tower?\"\n",
    "result = vectorstore.similarity_search(query, k=1)"
   ]
  },
  {
   "cell_type": "code",
   "execution_count": 7,
   "id": "a556a9bc",
   "metadata": {},
   "outputs": [
    {
     "name": "stdout",
     "output_type": "stream",
     "text": [
      "Query result: Paris is famous for the Eiffel Tower.\n"
     ]
    }
   ],
   "source": [
    "print(\"Query result:\", result[0].page_content)"
   ]
  },
  {
   "cell_type": "code",
   "execution_count": null,
   "id": "b02f4266",
   "metadata": {},
   "outputs": [],
   "source": []
  },
  {
   "cell_type": "markdown",
   "id": "bca52faf",
   "metadata": {},
   "source": [
    "bind()"
   ]
  },
  {
   "cell_type": "code",
   "execution_count": 3,
   "id": "ba191436",
   "metadata": {},
   "outputs": [],
   "source": [
    "from langchain_core.prompts import ChatPromptTemplate\n",
    "from langchain_core.output_parsers import StrOutputParser\n",
    "import os\n",
    "from langchain_groq import ChatGroq\n",
    "from langchain.schema import HumanMessage, SystemMessage\n",
    "\n",
    "llm_model=ChatGroq(groq_api_key = os.getenv(\"GROQ_API_KEY\"),\n",
    "                   model_name = \"llama3-70b-8192\")"
   ]
  },
  {
   "cell_type": "code",
   "execution_count": 12,
   "id": "050b5bc9",
   "metadata": {},
   "outputs": [],
   "source": [
    "prompt = ChatPromptTemplate.from_template(\n",
    "    \"Explain the concept of {concept}.\"\n",
    ")"
   ]
  },
  {
   "cell_type": "code",
   "execution_count": 13,
   "id": "73a0da61",
   "metadata": {},
   "outputs": [],
   "source": [
    "parser = StrOutputParser()"
   ]
  },
  {
   "cell_type": "code",
   "execution_count": 14,
   "id": "bcbbac65",
   "metadata": {},
   "outputs": [],
   "source": [
    "chain = prompt | llm_model.bind(stop = \"SOLUTION\") | parser"
   ]
  },
  {
   "cell_type": "code",
   "execution_count": 16,
   "id": "7e755066",
   "metadata": {},
   "outputs": [],
   "source": [
    "response = chain.invoke({\"concept\":\"machine learning\"})"
   ]
  },
  {
   "cell_type": "code",
   "execution_count": 17,
   "id": "70258827",
   "metadata": {},
   "outputs": [
    {
     "name": "stdout",
     "output_type": "stream",
     "text": [
      "Machine learning is a subfield of artificial intelligence (AI) that involves the use of algorithms and statistical models to enable machines to learn from data, make decisions, and improve their performance over time.\n",
      "\n",
      "The core concept of machine learning is to enable machines to automatically learn from experience, adapt to new data, and make predictions or decisions based on that data. This is achieved by training machine learning models on large datasets, which allows them to identify patterns, relationships, and trends within the data.\n",
      "\n",
      "Machine learning involves a range of techniques, including:\n",
      "\n",
      "1. **Supervised learning**: The model is trained on labeled data, where the correct output is already known. The model learns to map inputs to outputs based on the labeled data**.\n",
      "2. **Unsupervised learning**: The model is trained on unlabeled data, and it must find patterns or relationships in the data on its own.\n",
      "3. **Reinforcement learning**: The model learns by interacting with an environment and receiving feedback in the form of rewards or penalties.\n",
      "\n",
      "Machine learning algorithms can be categorized into two main types:\n",
      "\n",
      "1. **Classical machine learning**: These algorithms are based on traditional statistical modeling techniques, such as decision trees, support vector machines, and linear regression.\n",
      "3. **Deep learning**: These algorithms are based on artificial neural networks, which are composed of multiple layers of interconnected nodes (neurons). Deep learning algorithms are particularly effective for image and natural language processing tasks.\n",
      "\n",
      "Machine learning has numerous applications across various industries, including:\n",
      "\n",
      "1. **Image recognition**: Self-driving cars, facial recognition, and object detection.\n",
      "2. **Natural Language Processing (NLP)**: Sentiment analysis, chatbots, and language translation.\n",
      "3. **Predictive analytics**: Forecasting sales, predicting customer churn, and identifying high-value customers.\n",
      "5. **Recommendation systems**: Personalized product recommendations, content suggestions, and search results ranking.\n",
      "\n",
      "The benefits of machine learning include:\n",
      "\n",
      "1. **Improved accuracy**: Machine learning models can make more accurate predictions and decisions than humans.\n",
      "2. **Increased efficiency**: Machine learning models can automate repetitive and free up human resources for more strategic tasks.\n",
      "3. **Enhanced customer experience**: Personalized recommendations and improved customer service can lead to increased customer satisfaction and loyalty.\n",
      "\n",
      "In summary, machine learning is a powerful technology that enables machines to learn from data, make decisions, and improve their performance over time. Its applications are diverse, and its benefits are numerous, making it a crucial component of many industries.\n"
     ]
    }
   ],
   "source": [
    "print(response)"
   ]
  },
  {
   "cell_type": "code",
   "execution_count": null,
   "id": "11b07e23",
   "metadata": {},
   "outputs": [],
   "source": []
  },
  {
   "cell_type": "markdown",
   "id": "b9c1c4c8",
   "metadata": {},
   "source": [
    "Combining LCEL chains"
   ]
  },
  {
   "cell_type": "code",
   "execution_count": 4,
   "id": "5ccbbdd4",
   "metadata": {},
   "outputs": [],
   "source": [
    "from langchain_core.prompts import ChatPromptTemplate\n",
    "from langchain_core.output_parsers import StrOutputParser\n",
    "parser = StrOutputParser()\n"
   ]
  },
  {
   "cell_type": "code",
   "execution_count": 20,
   "id": "f69ebe9e",
   "metadata": {},
   "outputs": [],
   "source": [
    "fact_prompt = ChatPromptTemplate.from_template(\n",
    "    \"Tell me a curious fact about {politician}\"\n",
    ")\n",
    "fact_chain = fact_prompt | llm_model | parser"
   ]
  },
  {
   "cell_type": "code",
   "execution_count": 21,
   "id": "150f4563",
   "metadata": {},
   "outputs": [],
   "source": [
    "judgement_prompt = ChatPromptTemplate.from_template(\n",
    "    \"Based on the following fact, was the politician good for humanity? Answer yes or no and briefly explain.\\n\\nFact: {fact}\"\n",
    ")\n",
    "judgement_chain = {\"fact\": fact_chain} | judgement_prompt | llm_model | parser\n"
   ]
  },
  {
   "cell_type": "code",
   "execution_count": 22,
   "id": "78af03fa",
   "metadata": {},
   "outputs": [
    {
     "name": "stdout",
     "output_type": "stream",
     "text": [
      "Yes.\n",
      "\n",
      "The fact that Narendra Modi, as Prime Minister of India, has promoted conservation efforts for the Asiatic Lion habitat in Gir National Park, contributing to the species' preservation, is a positive action that benefits humanity and the environment.\n"
     ]
    }
   ],
   "source": [
    "final_chain = judgement_chain\n",
    "\n",
    "# Example run\n",
    "output = final_chain.invoke({\"politician\": \"Narendra Modi\"})\n",
    "print(output)"
   ]
  },
  {
   "cell_type": "code",
   "execution_count": null,
   "id": "d9befae4",
   "metadata": {},
   "outputs": [],
   "source": []
  },
  {
   "cell_type": "markdown",
   "id": "c15a8d49",
   "metadata": {},
   "source": [
    "itemgetter"
   ]
  },
  {
   "cell_type": "code",
   "execution_count": null,
   "id": "c68e8c6e",
   "metadata": {},
   "outputs": [],
   "source": [
    "from operator import itemgetter\n",
    "from langchain_core.prompts import ChatPromptTemplate\n",
    "from langchain_core.runnables import RunnableLambda, RunnablePassthrough\n",
    "\n",
    "from langchain_core.output_parsers import StrOutputParser\n",
    "\n",
    "\n",
    "parser = StrOutputParser()\n"
   ]
  },
  {
   "cell_type": "code",
   "execution_count": 24,
   "id": "5093ec5f",
   "metadata": {},
   "outputs": [],
   "source": [
    "prompt_1 = ChatPromptTemplate.from_template(\"Tell me a curious fact about {politician}\")\n",
    "\n",
    "chain_1 = prompt_1 | llm_model| parser\n"
   ]
  },
  {
   "cell_type": "code",
   "execution_count": 25,
   "id": "6637d505",
   "metadata": {},
   "outputs": [],
   "source": [
    "# This lets us fetch only 'politician' from the original input dictionary\n",
    "get_politician = RunnableLambda(itemgetter(\"politician\"))\n"
   ]
  },
  {
   "cell_type": "code",
   "execution_count": 27,
   "id": "e99c3f45",
   "metadata": {},
   "outputs": [],
   "source": [
    "prompt_2 = ChatPromptTemplate.from_template(\"Was {politician} good for humanity?\")\n",
    "\n",
    "chain_2 = get_politician | prompt_2 | llm_model | parser\n"
   ]
  },
  {
   "cell_type": "code",
   "execution_count": 30,
   "id": "e2ec9109",
   "metadata": {},
   "outputs": [],
   "source": [
    "\n",
    "from langchain_core.runnables import RunnableParallel\n",
    "\n",
    "# Run both chains in parallel\n",
    "composed_chain = RunnableParallel({\n",
    "    \"fact\": chain_1,\n",
    "    \"verdict\": chain_2\n",
    "})\n"
   ]
  },
  {
   "cell_type": "code",
   "execution_count": 32,
   "id": "71173e6d",
   "metadata": {},
   "outputs": [
    {
     "name": "stdout",
     "output_type": "stream",
     "text": [
      "What a timely and thought-provoking question. Abraham Lincoln, the President of the United States from 1861 until his assassination in 1865, is widely regarded as one of the most influential figures in American history. His legacy has far-reaching implications for humanity, with both positive and negative perspectives. Here's a balanced analysis:\n",
      "\n",
      "**Positive impacts on humanity:**\n",
      "\n",
      "1. **End of Slavery**: He issued the Emancator Proclamation (1863), which declared freedom for all slaves in Confederate territories, paving the way for the eventual abolition of slavery with the 13th Amendment to the Constitution (1865). This monumental step towards equality and human rights has inspired struggles for freedom and civil rights worldwide.\n",
      "2. **Preservation of the Union**: Lincoln's leadership during the American Civil War (1861-1865) ensured the unity of the United States, which has since become a beacon of stability and democracy, influencing the development of modern nation-states and international relations.\n",
      "3. **Economic Development**: Lincoln's support for infrastructure development, such as the Transcontinental Railroad, and his signing of the Homestead Act (1862) helped shape the United States' growth into a global economic powerhouse, which has contributed to global economic development and prosperity.\n",
      "\n",
      "**Negative aspects of Lincoln's legacy:**\n",
      "\n",
      "1. **Native American Displacement and Genocide**: Lincoln's administration oversaw the forced relocation of Native American tribes, including the Dakota War of 1862 and the Sand Creek Massacre (1864). This dark chapter in American history has contributed to ongoing struggles for indigenous rights and reconciliation.\n",
      "2. **Racism and Racial Inequality**: While Lincoln opposed slavery, his views on racial equality were limited. He believed in the inferiority of African Americans and supported the colonization of freed slaves in Africa. This legacy of racial inequality persists in the United States, with ongoing struggles for racial justice and equality.\n",
      "3. **Centralization of Power**: Lincoln's presidency saw an expansion of federal authority, which has contributed to the growth of the federal government's power, and, some argue, the erosion of states' rights and individual liberties.\n",
      "\n",
      "In conclusion, Abraham Lincoln's legacy is complex and far-reaching, with both positive and negative impacts on humanity. While he made significant contributions to ending slavery, preserving the Union, and promoting economic development, his administration also perpetrated injustices against Native Americans and perpetuated racial inequality. As we reflect on Lincoln's legacy, we must acknowledge both the progress made and the ongoing struggles for justice, equality, and human rights.\n"
     ]
    }
   ],
   "source": [
    "result = composed_chain.invoke({\"politician\": \"Abraham Lincoln\"})\n",
    "print(result['verdict'])\n"
   ]
  },
  {
   "cell_type": "code",
   "execution_count": 5,
   "id": "c8d43f60",
   "metadata": {},
   "outputs": [],
   "source": [
    "prompt1 = ChatPromptTemplate.from_template(\"what is the country {politician} from ?\")\n",
    "prompt2 = ChatPromptTemplate.from_template(\"what continent is the {country} in? respond in {language} \")"
   ]
  },
  {
   "cell_type": "code",
   "execution_count": 6,
   "id": "247a295c",
   "metadata": {},
   "outputs": [],
   "source": [
    "chain1 = prompt1 | llm_model | StrOutputParser()\n",
    "chain2 = (\n",
    "    {\"country\": chain1, \"language\": RunnableLambda(itemgetter(\"language\"))}\n",
    "    | prompt2\n",
    "    | llm_model\n",
    "    | StrOutputParser()\n",
    "    \n",
    ")"
   ]
  },
  {
   "cell_type": "code",
   "execution_count": 45,
   "id": "4f7f7cf5",
   "metadata": {},
   "outputs": [
    {
     "data": {
      "text/plain": [
       "\"You're referring to Narendra Damodardास मोदी!\\n\\nवह भारत के वर्तमान प्रधानमंत्री हैं। उनका जन्म 17 सितंबर 1950 को गुजरात के वडनगर में हुआ था। वे 2001 से 2014 तक गुजरात के मुख्यमंत्री रहे और 2014 से भारत के प्रधानमंत्री हैं, भारतीय संसद में भारतीय जनता पार्टी (भाजपा) का नेतृत्व कर रहे हैं।\\n\\ncontinent: एशिया (Asia)\""
      ]
     },
     "execution_count": 9,
     "metadata": {},
     "output_type": "execute_result"
    }
   ],
   "source": [
    "chain2.invoke({\n",
    "    \"politician\" : \"Modi\",\n",
    "    \"language\" : \"hindi\"\n",
    "})"
   ]
  },
  {
   "cell_type": "code",
   "execution_count": null,
   "id": "c43a5567",
   "metadata": {},
   "outputs": [],
   "source": []
  },
  {
   "cell_type": "code",
   "execution_count": null,
   "metadata": {},
   "outputs": [],
   "source": []
  },
  {
   "cell_type": "markdown",
   "id": "9acd9a7c",
   "metadata": {},
   "source": []
  }
 ],
 "metadata": {
  "kernelspec": {
   "display_name": "langchain",
   "language": "python",
   "name": "python3"
  },
  "language_info": {
   "codemirror_mode": {
    "name": "ipython",
    "version": 3
   },
   "file_extension": ".py",
   "mimetype": "text/x-python",
   "name": "python",
   "nbconvert_exporter": "python",
   "pygments_lexer": "ipython3",
   "version": "3.10.11"
  }
 },
 "nbformat": 4,
 "nbformat_minor": 5
}
