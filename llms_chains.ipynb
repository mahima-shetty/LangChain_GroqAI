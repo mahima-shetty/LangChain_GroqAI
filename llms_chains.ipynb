{
 "cells": [
  {
   "cell_type": "markdown",
   "id": "9aec151a",
   "metadata": {},
   "source": [
    "## Chains\n",
    "\n",
    "1. Basic -> order\n",
    "2. Simple sequential chain -> 1I - 1O\n",
    "3. Sequential chain -> Multiple O"
   ]
  },
  {
   "cell_type": "code",
   "execution_count": 4,
   "id": "5f03a144",
   "metadata": {},
   "outputs": [],
   "source": [
    "from langchain.prompts import PromptTemplate\n",
    "\n",
    "prompt_template_name = PromptTemplate(input_variables=['cuisine'], template = \"I want to open a restaurant for {cuisine} food. Suggest a fancy name for this.\")"
   ]
  },
  {
   "cell_type": "code",
   "execution_count": 1,
   "id": "4bc96d8d",
   "metadata": {},
   "outputs": [],
   "source": [
    "from langchain_groq import ChatGroq\n",
    "import os"
   ]
  },
  {
   "cell_type": "code",
   "execution_count": 2,
   "id": "a759c587",
   "metadata": {},
   "outputs": [],
   "source": [
    "from langchain_groq import ChatGroq\n",
    "from langchain.schema import HumanMessage, SystemMessage\n",
    "\n",
    "llm_model = ChatGroq(\n",
    "    groq_api_key=os.getenv(\"GROQ_API_KEY\"),\n",
    "    model_name=\"llama3-70b-8192\"\n",
    ")\n"
   ]
  },
  {
   "cell_type": "code",
   "execution_count": 3,
   "id": "8f6a6cd4",
   "metadata": {},
   "outputs": [],
   "source": [
    "from langchain.prompts import PromptTemplate\n",
    "\n",
    "prompt_template_name = PromptTemplate(\n",
    "    input_variables=['cuisine'],\n",
    "    template=\"I want to open a restaurant for {cuisine} food, Suggest a fancy name for this\"\n",
    ")"
   ]
  },
  {
   "cell_type": "code",
   "execution_count": 4,
   "id": "412007e8",
   "metadata": {},
   "outputs": [
    {
     "name": "stderr",
     "output_type": "stream",
     "text": [
      "C:\\Users\\msshe\\AppData\\Local\\Temp\\ipykernel_19832\\3918517878.py:3: LangChainDeprecationWarning: The class `LLMChain` was deprecated in LangChain 0.1.17 and will be removed in 1.0. Use :meth:`~RunnableSequence, e.g., `prompt | llm`` instead.\n",
      "  Chain = LLMChain(llm = llm_model, prompt = prompt_template_name, verbose = True)\n"
     ]
    }
   ],
   "source": [
    "from langchain.chains import LLMChain\n",
    "\n",
    "Chain = LLMChain(llm = llm_model, prompt = prompt_template_name, verbose = True)"
   ]
  },
  {
   "cell_type": "code",
   "execution_count": 5,
   "id": "11fd88f9",
   "metadata": {},
   "outputs": [
    {
     "name": "stderr",
     "output_type": "stream",
     "text": [
      "C:\\Users\\msshe\\AppData\\Local\\Temp\\ipykernel_19832\\2636295365.py:1: LangChainDeprecationWarning: The method `Chain.run` was deprecated in langchain 0.1.0 and will be removed in 1.0. Use :meth:`~invoke` instead.\n",
      "  response = Chain.run(\"Indian\")\n"
     ]
    },
    {
     "name": "stdout",
     "output_type": "stream",
     "text": [
      "\n",
      "\n",
      "\u001b[1m> Entering new LLMChain chain...\u001b[0m\n",
      "Prompt after formatting:\n",
      "\u001b[32;1m\u001b[1;3mI want to open a restaurant for Indian food, Suggest a fancy name for this\u001b[0m\n",
      "\n",
      "\u001b[1m> Finished chain.\u001b[0m\n",
      "What a great idea! Here are some fancy name suggestions for your Indian restaurant:\n",
      "\n",
      "1. **Tandoor Maharaja**: This name combines the traditional Indian clay oven (tandoor) with a royal title, evoking a regal dining experience.\n",
      "2. **Spice Route**: This name takes you back to the ancient spice trade, hinting at the rich flavors and aromas of Indian cuisine.\n",
      "3. **Dhaba Royale**: \"Dhaba\" refers to a traditional Punjabi eatery, while \"Royale\" adds a touch of luxury, promising an upscale experience.\n",
      "4. **Garam Gourmet**: \"Garam\" means hot or warm in Hindi, while \"Gourmet\" implies a sophisticated, high-end experience.\n",
      "5. **Maharani's Table**: \"Maharani\" (queen) suggests a refined, elegant atmosphere, while \"Table\" emphasizes the sharing of a meal.\n",
      "6. **Saffron Bazaar**: \"Saffron\" is a nod to the prized spice, while \"Bazaar\" evokes the vibrant colors and energy of Indian markets.\n",
      "7. **Kohinoor Kitchen**: \"Kohinoor\" is the famous diamond, symbolizing excellence and luxury, paired with \"Kitchen\" to highlight the heart of the restaurant.\n",
      "8. **Rasoi Royale**: \"Rasoi\" means kitchen in Hindi, while \"Royale\" adds a touch of sophistication, promising a refined dining experience.\n",
      "9. **Tamarind Tree**: \"Tamarind\" is a common Indian ingredient, and \"Tree\" suggests a natural, earthy atmosphere, perfect for a cozy restaurant.\n",
      "10. **Jaipur Jewel**: \"Jaipur\" references the pink city of India, while \"Jewel\" implies a treasured, exceptional dining experience.\n",
      "\n",
      "Choose the one that resonates with your vision and cuisine, and good luck with your restaurant venture!\n"
     ]
    }
   ],
   "source": [
    "response = Chain.run(\"Indian\")\n",
    "print(response)"
   ]
  },
  {
   "cell_type": "code",
   "execution_count": 6,
   "id": "af5051b3",
   "metadata": {},
   "outputs": [
    {
     "data": {
      "text/plain": [
       "'What a great idea! Here are some fancy name suggestions for your Indian restaurant:\\n\\n1. **Tandoor Maharaja**: This name combines the traditional Indian clay oven (tandoor) with a royal title, evoking a regal dining experience.\\n2. **Spice Route**: This name takes you back to the ancient spice trade, hinting at the rich flavors and aromas of Indian cuisine.\\n3. **Dhaba Royale**: \"Dhaba\" refers to a traditional Punjabi eatery, while \"Royale\" adds a touch of luxury, promising an upscale experience.\\n4. **Garam Gourmet**: \"Garam\" means hot or warm in Hindi, while \"Gourmet\" implies a sophisticated, high-end experience.\\n5. **Maharani\\'s Table**: \"Maharani\" (queen) suggests a refined, elegant atmosphere, while \"Table\" emphasizes the sharing of a meal.\\n6. **Saffron Bazaar**: \"Saffron\" is a nod to the prized spice, while \"Bazaar\" evokes the vibrant colors and energy of Indian markets.\\n7. **Kohinoor Kitchen**: \"Kohinoor\" is the famous diamond, symbolizing excellence and luxury, paired with \"Kitchen\" to highlight the heart of the restaurant.\\n8. **Rasoi Royale**: \"Rasoi\" means kitchen in Hindi, while \"Royale\" adds a touch of sophistication, promising a refined dining experience.\\n9. **Tamarind Tree**: \"Tamarind\" is a common Indian ingredient, and \"Tree\" suggests a natural, earthy atmosphere, perfect for a cozy restaurant.\\n10. **Jaipur Jewel**: \"Jaipur\" references the pink city of India, while \"Jewel\" implies a treasured, exceptional dining experience.\\n\\nChoose the one that resonates with your vision and cuisine, and good luck with your restaurant venture!'"
      ]
     },
     "execution_count": 6,
     "metadata": {},
     "output_type": "execute_result"
    }
   ],
   "source": [
    "response"
   ]
  },
  {
   "cell_type": "markdown",
   "id": "0b546f80",
   "metadata": {},
   "source": [
    "## Simple Sequential Chain"
   ]
  },
  {
   "cell_type": "code",
   "execution_count": null,
   "id": "51ff604c",
   "metadata": {},
   "outputs": [],
   "source": [
    "prompt_template_name = PromptTemplate(\n",
    "    input_variable = ['cuisine'],\n",
    "    template=\"I want to open a restaurant for {cuisine} food.. Suggest a fancy name for this. \"\n",
    ")\n",
    "\n",
    "name_chain = LLMChain(llm = llm_model, prompt = prompt_template_name)"
   ]
  },
  {
   "cell_type": "code",
   "execution_count": null,
   "id": "271a4807",
   "metadata": {},
   "outputs": [],
   "source": []
  },
  {
   "cell_type": "code",
   "execution_count": 9,
   "id": "c9f5c3ed",
   "metadata": {},
   "outputs": [],
   "source": [
    "prompt_template_items = PromptTemplate(input_variables=['restaurant_name'], template = \"Suggest some menu items for {restaurant_name}\")\n",
    "food_items_chain = LLMChain(llm = llm_model, prompt = prompt_template_items)"
   ]
  },
  {
   "cell_type": "markdown",
   "id": "b33dfa2b",
   "metadata": {},
   "source": [
    "## making final \"Simple Sequential chain\""
   ]
  },
  {
   "cell_type": "code",
   "execution_count": 10,
   "id": "ffc18a19",
   "metadata": {},
   "outputs": [
    {
     "name": "stdout",
     "output_type": "stream",
     "text": [
      "\n",
      "\n",
      "\u001b[1m> Entering new SimpleSequentialChain chain...\u001b[0m\n",
      "\u001b[36;1m\u001b[1;3mBellissima! Here are some fancy name suggestions for your Italian restaurant:\n",
      "\n",
      "1. **Bella Vita** - \"Beautiful Life\" in Italian, evoking the joy of living and savoring delicious food.\n",
      "2. **Casa Italia** - \"House of Italy\" in Italian, conveying a sense of warmth and authenticity.\n",
      "3. **Fiore di Italia** - \"Flower of Italy\" in Italian, symbolizing the beauty and richness of Italian culture.\n",
      "4. **La Bella Cucina** - \"The Beautiful Kitchen\" in Italian, highlighting the art of cooking and the beauty of Italian cuisine.\n",
      "5. **Villa Toscana** - \"Tuscan Villa\" in Italian, transporting customers to the rolling hills and vineyards of Tuscany.\n",
      "6. **Caffè Bella Vita** - \"Beautiful Life Café\" in Italian, offering a cozy and inviting atmosphere.\n",
      "7. **Il Giardino** - \"The Garden\" in Italian, suggesting a lush and serene atmosphere, perfect for a romantic dinner.\n",
      "9. **La Dolce Vita** - \"The Sweet Life\" in Italian, promising a delightful culinary experience.\n",
      "10. **Tavola Italiano** - \"Table\" in Italian, inviting customers to gather around the table for a shared culinary experience.\n",
      "\n",
      "Choose the one that resonates with your vision and style, and buon appetito!\n",
      "\n",
      "(Remember to check if the name is available as a web domain and social media handle before finalizing your restaurant's name.)\u001b[0m\n",
      "\u001b[33;1m\u001b[1;3mWhat a wonderful list of name suggestions for Bellissima! After careful consideration, I'm thrilled to announce that my Italian restaurant will be called **La Bella Cucina** - \"The Beautiful Kitchen\"** in Italian. This name perfectly captures the essence of my vision: to create a warm, inviting atmosphere where guests can savor the beauty of Italian cooking.\n",
      "\n",
      "Now, let's dive into the menu! Here are some delectable dishes that will transport your taste buds to Italy:\n",
      "\n",
      "**Appetizers**\n",
      "\n",
      "1. **Bruschetta Toscana**: Fresh tomatoes, basil, garlic, and mozzarella on toasted Ciabatta, drizzled with extra virgin olive oil.\n",
      "2. **Insalata Caprese**: Fresh mozzarella, ripe tomatoes, and basil, dressed with olive oil and balsamic glaze.\n",
      "3. **Calamari alla Romana**: Crispy fried squid rings served with a tangy aioli dipping sauce.\n",
      "\n",
      "**Pastas**\n",
      "\n",
      "1. **Spaghetti Carbonara**: Rich and creamy spaghetti tossed with bacon, eggs, parmesan, and black pepper.\n",
      "3. **Lasagna della Nonna**: Layered pasta with ground beef ragù, mozzarella, and parmesan, baked to perfection.\n",
      "4. **Fettuccine Alfredo**: Tender fettuccine tossed in a buttery, parmesan-rich Alfredo sauce.\n",
      "\n",
      "**Entrees**\n",
      "\n",
      "1. **Pollo alla Milanese**: Breaded and fried chicken breast topped with arugula, cherry tomatoes, and parmesan, served with a side of garlic mashed potatoes.\n",
      "2. **Bistecca alla Fiorentina**: Grilled T-bone steak with garlic roasted broccoli and rosemary-infused roasted potatoes.\n",
      "\n",
      "**Desserts**\n",
      "\n",
      "1. **Tiramisù**: Ladyfingers soaked in espresso and liqueur, layered with mascarpone cream.\n",
      "2. **Panna Cotta**: Creamy vanilla pudding topped with mixed berries and a drizzle of honey.\n",
      "3. **Cannoli Siciliani**: Crispy shells filled with sweetened ricotta cheese and chocolate chips.\n",
      "\n",
      "**Drinks**\n",
      "\n",
      "1. **Caffè Italiano**: Espresso made with high-quality beans, served with sugar and a side of biscotti.\n",
      "2. **Vino della Casa**: A selection of Italian wines, including Chianti, Pinot Grigio, and Prosecco.\n",
      "\n",
      "Buon appetito!\u001b[0m\n",
      "\n",
      "\u001b[1m> Finished chain.\u001b[0m\n"
     ]
    }
   ],
   "source": [
    "from langchain.chains import SimpleSequentialChain\n",
    "\n",
    "chain = SimpleSequentialChain(chains = [name_chain, food_items_chain], verbose = True)\n",
    "output = chain.run(\"Italian\")"
   ]
  },
  {
   "cell_type": "code",
   "execution_count": null,
   "id": "4207ad8d",
   "metadata": {},
   "outputs": [],
   "source": []
  },
  {
   "cell_type": "markdown",
   "id": "ae5d3eec",
   "metadata": {},
   "source": [
    "## now making - \"Sequential Chain\"\n",
    "\n",
    "but first make chains - add output key"
   ]
  },
  {
   "cell_type": "markdown",
   "id": "742795d0",
   "metadata": {},
   "source": []
  },
  {
   "cell_type": "code",
   "execution_count": 13,
   "id": "d5cdb891",
   "metadata": {},
   "outputs": [],
   "source": [
    "from langchain.chains import SequentialChain"
   ]
  },
  {
   "cell_type": "code",
   "execution_count": 11,
   "id": "e83725db",
   "metadata": {},
   "outputs": [],
   "source": [
    "name_chain = LLMChain(llm = llm_model, prompt = prompt_template_name, output_key = \"restaurant_name\")\n",
    "food_items_chain = LLMChain(llm = llm_model, prompt = prompt_template_items, output_key = \"menu_items\")"
   ]
  },
  {
   "cell_type": "code",
   "execution_count": 14,
   "id": "280582df",
   "metadata": {},
   "outputs": [],
   "source": [
    "full_chain = SequentialChain(\n",
    "    chains = [name_chain, food_items_chain],\n",
    "    input_variables = ['cuisine'],\n",
    "    output_variables = ['restaurant_name', 'menu_items'],\n",
    "    verbose = True\n",
    ")"
   ]
  },
  {
   "cell_type": "code",
   "execution_count": 16,
   "id": "b49e16ac",
   "metadata": {},
   "outputs": [
    {
     "name": "stdout",
     "output_type": "stream",
     "text": [
      "\n",
      "\n",
      "\u001b[1m> Entering new SequentialChain chain...\u001b[0m\n",
      "\n",
      "\u001b[1m> Finished chain.\u001b[0m\n",
      "{'cuisine': 'Mexican', 'restaurant_name': \"¡ Excelente elección! A fancy name for a Mexican restaurant can help create a sophisticated and inviting atmosphere. Here are some suggestions:\\n\\n1. **Azul y Oro** (Blue and Gold): Inspired by the rich colors of Mexico's cultural heritage, this suggests luxury and elegance.\\n2. **El Patio de las Flores** (The Flower Patio): This name evokes a beautiful outdoor setting, reminiscent of traditional Mexican courtyards, perfect for a lovely dining experience.\\n3. **Casa de la Vida** (House of Life): This name reflects the vibrant energy and warmth of Mexican culture, inviting customers to experience the richness of life.\\n4. **Hacienda del Sol** (Estate of the Sun): This name conveys a sense of grandeur and sophistication, transporting customers to a luxurious Mexican hacienda.\\n5. **La Casa de Toño** (Toño's House): This name adds a personal touch, suggesting a family-run establishment with a warm, welcoming atmosphere.\\n6. **El Jardín de las Siete Lunas** (The Garden of the Seven Moons): Inspired by Mexican folklore, this name creates a mystical, enchanting ambiance.\\n7. **Vista del Valle** (View of the Valley): This name suggests a scenic, picturesque setting, perfect for a restaurant with a stunning view or a cozy, intimate atmosphere.\\n8. **La Bodega de los Abuelos** (The Grandparents' Wine Cellar): This name combines tradition and sophistication, hinting at a rich heritage and a refined dining experience.\\n9. **Cantina de la Ciudad** (City Tavern): This option adds a touch of urban sophistication, perfect for a modern Mexican restaurant in a bustling city.\\n10. **El Mercado de las Delicias** (The Market of Delights): This name captures the essence of a vibrant Mexican market, promising customers a culinary adventure.\\n\\nChoose the one that resonates with your vision and style, and don't forget to pair it with a logo and branding that reflects the essence of your restaurant. ¡Buena suerte!\", 'menu_items': \"What a fantastic list of restaurant names! Let's create some menu items that would complement these elegant and inviting names. Here are some suggestions:\\n\\n**Appetizers**\\n\\n* Azul y Oro: Grilled Shrimp Ceviche, served with a side of crispy tortilla chips\\n* El Patio de las Flores): Fresh Flower Salad, with edible flowers, mixed greens, and a zesty lime dressing\\n* Casa de la Vida: Spicy Pumpkin Empanadas, served with a side of chipotle aioli\\n* Hacienda del Sol: Heirloom Tomato Salad, with crispy tortilla strips, feta cheese, and a balsamic glaze\\n* La Casa de Toño: Toño's Famous Queso Fundido, served with a side of fresh tortillas and crudités\\n\\n**Entrees**\\n\\n* Azul y Oro: Pan-Seared Fish Tacos, topped with pickled red onion, cilantro-lime sauce, and crispy tortilla strips\\n* El Patio de las Flores: Grilled Chicken Mole, served with sautéed vegetables and steamed rice\\n* Casa de la Vida: Carne Asada Tacos, served with grilled onions, bell peppers, and a side of spicy salsa\\n* Hacienda del Sol: Grilled Steak Fajitas, served with sautéed onions, bell peppers, and warm flour tortillas\\n* La Casa de Toño: Toño's Signature Chicken Enchiladas, smothered in a rich mole sauce and served with steamed rice and beans\\n\\n**Sides**\\n\\n* El Jardín de las Siete Lunas: Saffron Rice, infused with saffron and toasted cumin\\n* Vista del Valle: Grilled Corn with Cotija cheese, chili powder, and a squeeze of lime juice\\n* La Bodega de los Abuelos: Garlic and Cilantro Roasted Broccoli, tossed with toasted almonds and a sprinkle of queso fresco\\n* Cantina de la Ciudad: Street Style Grilled Corn, with mayonnaise, cotija cheese, chili powder, and a sprinkle of lime zest\\n* El Mercado de las Delicias: Mexican Street Corn Salad, with grilled corn, black beans, diced tomatoes, and a zesty lime dressing\\n\\n**Desserts**\\n\\n* Azul y Oro: Coconut Lime Tarts, with a side of spicy mango salsa\\n* El Patio de las Flores: Fresh Fruit Tostada, topped with whipped cream, toasted almonds, and a sprinkle of cinnamon\\n* Casa de la Vida: Churros con Cajeta, served with a side of warm chocolate sauce and whipped cream\\n* Hacienda del Sol: Tres Leches Cake, soaked in evaporated milk, condensed milk, and heavy cream\\n* La Casa de Toño: Toño's Famous Flan, topped with a caramel sauce, toasted almonds, and a sprinkle of cinnamon\\n\\nThese menu items are designed to complement the elegant and inviting atmosphere of your Mexican restaurant. ¡Buen provecho!\"}\n"
     ]
    }
   ],
   "source": [
    "output = full_chain.invoke({\"cuisine\": 'Mexican'})\n",
    "print(output)"
   ]
  },
  {
   "cell_type": "code",
   "execution_count": null,
   "id": "fba25c88",
   "metadata": {},
   "outputs": [],
   "source": []
  }
 ],
 "metadata": {
  "kernelspec": {
   "display_name": "langchain",
   "language": "python",
   "name": "python3"
  },
  "language_info": {
   "codemirror_mode": {
    "name": "ipython",
    "version": 3
   },
   "file_extension": ".py",
   "mimetype": "text/x-python",
   "name": "python",
   "nbconvert_exporter": "python",
   "pygments_lexer": "ipython3",
   "version": "3.10.11"
  }
 },
 "nbformat": 4,
 "nbformat_minor": 5
}
